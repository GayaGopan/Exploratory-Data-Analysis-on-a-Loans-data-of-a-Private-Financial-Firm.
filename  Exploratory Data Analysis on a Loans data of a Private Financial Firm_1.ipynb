{
 "cells": [
  {
   "cell_type": "markdown",
   "id": "d7d0e2dc",
   "metadata": {},
   "source": [
    "# Exploratory Data Analysis on a Loans data of a Private Financial Firm."
   ]
  },
  {
   "cell_type": "markdown",
   "id": "9b45372c",
   "metadata": {},
   "source": [
    "## Importing all the necessary modules"
   ]
  },
  {
   "cell_type": "code",
   "execution_count": 435,
   "id": "1f333f8c",
   "metadata": {},
   "outputs": [],
   "source": [
    "import numpy as np                      # for the 2-d matrices\n",
    "import pandas as pd                     # for the data frames\n",
    "import matplotlib.pyplot as plt         # for data vizualizations \n",
    "import datetime as dt                   # for the datetime data\n",
    "import seaborn as sns                   # for the visualizations "
   ]
  },
  {
   "cell_type": "markdown",
   "id": "468d89b1",
   "metadata": {},
   "source": [
    "## Importing the data from an external source into the Python environment"
   ]
  },
  {
   "cell_type": "code",
   "execution_count": 436,
   "id": "49e22aa7",
   "metadata": {},
   "outputs": [
    {
     "data": {
      "text/html": [
       "<div>\n",
       "<style scoped>\n",
       "    .dataframe tbody tr th:only-of-type {\n",
       "        vertical-align: middle;\n",
       "    }\n",
       "\n",
       "    .dataframe tbody tr th {\n",
       "        vertical-align: top;\n",
       "    }\n",
       "\n",
       "    .dataframe thead th {\n",
       "        text-align: right;\n",
       "    }\n",
       "</style>\n",
       "<table border=\"1\" class=\"dataframe\">\n",
       "  <thead>\n",
       "    <tr style=\"text-align: right;\">\n",
       "      <th></th>\n",
       "      <th>LoanID</th>\n",
       "      <th>Amount.Requested</th>\n",
       "      <th>Amount.Funded.By.Investors</th>\n",
       "      <th>Interest.Rate</th>\n",
       "      <th>Loan.Length</th>\n",
       "      <th>Loan.Purpose</th>\n",
       "      <th>Debt.To.Income.Ratio</th>\n",
       "      <th>State</th>\n",
       "      <th>Home.Ownership</th>\n",
       "      <th>Monthly.Income</th>\n",
       "      <th>FICO.Range</th>\n",
       "      <th>Open.CREDIT.Lines</th>\n",
       "      <th>Revolving.CREDIT.Balance</th>\n",
       "      <th>Inquiries.in.the.Last.6.Months</th>\n",
       "      <th>Employment.Length</th>\n",
       "    </tr>\n",
       "  </thead>\n",
       "  <tbody>\n",
       "    <tr>\n",
       "      <th>0</th>\n",
       "      <td>1</td>\n",
       "      <td>20000.0</td>\n",
       "      <td>20000.0</td>\n",
       "      <td>8.90%</td>\n",
       "      <td>36 months</td>\n",
       "      <td>debt_consolidation</td>\n",
       "      <td>14.90%</td>\n",
       "      <td>SC</td>\n",
       "      <td>MORTGAGE</td>\n",
       "      <td>6541.67</td>\n",
       "      <td>735-739</td>\n",
       "      <td>14.0</td>\n",
       "      <td>14272.0</td>\n",
       "      <td>2.0</td>\n",
       "      <td>&lt; 1 year</td>\n",
       "    </tr>\n",
       "    <tr>\n",
       "      <th>1</th>\n",
       "      <td>2</td>\n",
       "      <td>19200.0</td>\n",
       "      <td>19200.0</td>\n",
       "      <td>12.12%</td>\n",
       "      <td>36 months</td>\n",
       "      <td>debt_consolidation</td>\n",
       "      <td>28.36%</td>\n",
       "      <td>TX</td>\n",
       "      <td>MORTGAGE</td>\n",
       "      <td>4583.33</td>\n",
       "      <td>715-719</td>\n",
       "      <td>12.0</td>\n",
       "      <td>11140.0</td>\n",
       "      <td>1.0</td>\n",
       "      <td>2 years</td>\n",
       "    </tr>\n",
       "    <tr>\n",
       "      <th>2</th>\n",
       "      <td>3</td>\n",
       "      <td>35000.0</td>\n",
       "      <td>35000.0</td>\n",
       "      <td>21.98%</td>\n",
       "      <td>60 months</td>\n",
       "      <td>debt_consolidation</td>\n",
       "      <td>23.81%</td>\n",
       "      <td>CA</td>\n",
       "      <td>MORTGAGE</td>\n",
       "      <td>11500.00</td>\n",
       "      <td>690-694</td>\n",
       "      <td>14.0</td>\n",
       "      <td>21977.0</td>\n",
       "      <td>1.0</td>\n",
       "      <td>2 years</td>\n",
       "    </tr>\n",
       "    <tr>\n",
       "      <th>3</th>\n",
       "      <td>4</td>\n",
       "      <td>10000.0</td>\n",
       "      <td>9975.0</td>\n",
       "      <td>9.99%</td>\n",
       "      <td>36 months</td>\n",
       "      <td>debt_consolidation</td>\n",
       "      <td>14.30%</td>\n",
       "      <td>KS</td>\n",
       "      <td>MORTGAGE</td>\n",
       "      <td>3833.33</td>\n",
       "      <td>695-699</td>\n",
       "      <td>10.0</td>\n",
       "      <td>9346.0</td>\n",
       "      <td>0.0</td>\n",
       "      <td>5 years</td>\n",
       "    </tr>\n",
       "    <tr>\n",
       "      <th>4</th>\n",
       "      <td>5</td>\n",
       "      <td>12000.0</td>\n",
       "      <td>12000.0</td>\n",
       "      <td>11.71%</td>\n",
       "      <td>36 months</td>\n",
       "      <td>credit_card</td>\n",
       "      <td>18.78%</td>\n",
       "      <td>NJ</td>\n",
       "      <td>RENT</td>\n",
       "      <td>3195.00</td>\n",
       "      <td>695-699</td>\n",
       "      <td>11.0</td>\n",
       "      <td>14469.0</td>\n",
       "      <td>0.0</td>\n",
       "      <td>9 years</td>\n",
       "    </tr>\n",
       "  </tbody>\n",
       "</table>\n",
       "</div>"
      ],
      "text/plain": [
       "   LoanID  Amount.Requested  Amount.Funded.By.Investors Interest.Rate  \\\n",
       "0       1           20000.0                     20000.0         8.90%   \n",
       "1       2           19200.0                     19200.0        12.12%   \n",
       "2       3           35000.0                     35000.0        21.98%   \n",
       "3       4           10000.0                      9975.0         9.99%   \n",
       "4       5           12000.0                     12000.0        11.71%   \n",
       "\n",
       "  Loan.Length        Loan.Purpose Debt.To.Income.Ratio State Home.Ownership  \\\n",
       "0   36 months  debt_consolidation               14.90%    SC       MORTGAGE   \n",
       "1   36 months  debt_consolidation               28.36%    TX       MORTGAGE   \n",
       "2   60 months  debt_consolidation               23.81%    CA       MORTGAGE   \n",
       "3   36 months  debt_consolidation               14.30%    KS       MORTGAGE   \n",
       "4   36 months         credit_card               18.78%    NJ           RENT   \n",
       "\n",
       "   Monthly.Income FICO.Range  Open.CREDIT.Lines  Revolving.CREDIT.Balance  \\\n",
       "0         6541.67    735-739               14.0                   14272.0   \n",
       "1         4583.33    715-719               12.0                   11140.0   \n",
       "2        11500.00    690-694               14.0                   21977.0   \n",
       "3         3833.33    695-699               10.0                    9346.0   \n",
       "4         3195.00    695-699               11.0                   14469.0   \n",
       "\n",
       "   Inquiries.in.the.Last.6.Months Employment.Length  \n",
       "0                             2.0          < 1 year  \n",
       "1                             1.0           2 years  \n",
       "2                             1.0           2 years  \n",
       "3                             0.0           5 years  \n",
       "4                             0.0           9 years  "
      ]
     },
     "execution_count": 436,
     "metadata": {},
     "output_type": "execute_result"
    }
   ],
   "source": [
    "data= pd.read_csv('LoansData (1).csv')\n",
    "data.head()"
   ]
  },
  {
   "cell_type": "code",
   "execution_count": 437,
   "id": "66adb428",
   "metadata": {},
   "outputs": [
    {
     "data": {
      "text/plain": [
       "(2500, 15)"
      ]
     },
     "execution_count": 437,
     "metadata": {},
     "output_type": "execute_result"
    }
   ],
   "source": [
    "data.shape"
   ]
  },
  {
   "cell_type": "markdown",
   "id": "c783e838",
   "metadata": {},
   "source": [
    "**There are 2500 records for 15 variables**"
   ]
  },
  {
   "cell_type": "markdown",
   "id": "177278fe",
   "metadata": {},
   "source": [
    "## EDA: Exploratory Data Analysis"
   ]
  },
  {
   "cell_type": "markdown",
   "id": "34cdf7b6",
   "metadata": {},
   "source": [
    "### Renaming the variables as per the Naming conversion."
   ]
  },
  {
   "cell_type": "code",
   "execution_count": 438,
   "id": "e5ce55e3",
   "metadata": {},
   "outputs": [
    {
     "data": {
      "text/plain": [
       "Index(['LoanID', 'Amount.Requested', 'Amount.Funded.By.Investors',\n",
       "       'Interest.Rate', 'Loan.Length', 'Loan.Purpose', 'Debt.To.Income.Ratio',\n",
       "       'State', 'Home.Ownership', 'Monthly.Income', 'FICO.Range',\n",
       "       'Open.CREDIT.Lines', 'Revolving.CREDIT.Balance',\n",
       "       'Inquiries.in.the.Last.6.Months', 'Employment.Length'],\n",
       "      dtype='object')"
      ]
     },
     "execution_count": 438,
     "metadata": {},
     "output_type": "execute_result"
    }
   ],
   "source": [
    "data.columns"
   ]
  },
  {
   "cell_type": "code",
   "execution_count": 439,
   "id": "ffe12a6b",
   "metadata": {},
   "outputs": [
    {
     "name": "stdout",
     "output_type": "stream",
     "text": [
      "<class 'pandas.core.frame.DataFrame'>\n",
      "RangeIndex: 2500 entries, 0 to 2499\n",
      "Data columns (total 15 columns):\n",
      " #   Column                          Non-Null Count  Dtype  \n",
      "---  ------                          --------------  -----  \n",
      " 0   LoanID                          2500 non-null   int64  \n",
      " 1   Amount.Requested                2499 non-null   float64\n",
      " 2   Amount.Funded.By.Investors      2499 non-null   float64\n",
      " 3   Interest.Rate                   2498 non-null   object \n",
      " 4   Loan.Length                     2500 non-null   object \n",
      " 5   Loan.Purpose                    2500 non-null   object \n",
      " 6   Debt.To.Income.Ratio            2499 non-null   object \n",
      " 7   State                           2500 non-null   object \n",
      " 8   Home.Ownership                  2499 non-null   object \n",
      " 9   Monthly.Income                  2499 non-null   float64\n",
      " 10  FICO.Range                      2498 non-null   object \n",
      " 11  Open.CREDIT.Lines               2497 non-null   float64\n",
      " 12  Revolving.CREDIT.Balance        2497 non-null   float64\n",
      " 13  Inquiries.in.the.Last.6.Months  2497 non-null   float64\n",
      " 14  Employment.Length               2423 non-null   object \n",
      "dtypes: float64(6), int64(1), object(8)\n",
      "memory usage: 293.1+ KB\n"
     ]
    }
   ],
   "source": [
    "data.info()"
   ]
  },
  {
   "cell_type": "code",
   "execution_count": 440,
   "id": "3635fd54",
   "metadata": {},
   "outputs": [
    {
     "data": {
      "text/html": [
       "<div>\n",
       "<style scoped>\n",
       "    .dataframe tbody tr th:only-of-type {\n",
       "        vertical-align: middle;\n",
       "    }\n",
       "\n",
       "    .dataframe tbody tr th {\n",
       "        vertical-align: top;\n",
       "    }\n",
       "\n",
       "    .dataframe thead th {\n",
       "        text-align: right;\n",
       "    }\n",
       "</style>\n",
       "<table border=\"1\" class=\"dataframe\">\n",
       "  <thead>\n",
       "    <tr style=\"text-align: right;\">\n",
       "      <th></th>\n",
       "      <th>LoanID</th>\n",
       "      <th>Amount.Requested</th>\n",
       "      <th>Amount.Funded.By.Investors</th>\n",
       "      <th>Interest.Rate</th>\n",
       "      <th>Loan.Length</th>\n",
       "      <th>Loan.Purpose</th>\n",
       "      <th>Debt.To.Income.Ratio</th>\n",
       "      <th>State</th>\n",
       "      <th>Home.Ownership</th>\n",
       "      <th>Monthly.Income</th>\n",
       "      <th>FICO.Range</th>\n",
       "      <th>Open.CREDIT.Lines</th>\n",
       "      <th>Revolving.CREDIT.Balance</th>\n",
       "      <th>Inquiries.in.the.Last.6.Months</th>\n",
       "      <th>Employment.Length</th>\n",
       "    </tr>\n",
       "  </thead>\n",
       "  <tbody>\n",
       "    <tr>\n",
       "      <th>1</th>\n",
       "      <td>2</td>\n",
       "      <td>19200.0</td>\n",
       "      <td>19200.0</td>\n",
       "      <td>12.12%</td>\n",
       "      <td>36 months</td>\n",
       "      <td>debt_consolidation</td>\n",
       "      <td>28.36%</td>\n",
       "      <td>TX</td>\n",
       "      <td>MORTGAGE</td>\n",
       "      <td>4583.33</td>\n",
       "      <td>715-719</td>\n",
       "      <td>12.0</td>\n",
       "      <td>11140.0</td>\n",
       "      <td>1.0</td>\n",
       "      <td>2 years</td>\n",
       "    </tr>\n",
       "    <tr>\n",
       "      <th>2</th>\n",
       "      <td>3</td>\n",
       "      <td>35000.0</td>\n",
       "      <td>35000.0</td>\n",
       "      <td>21.98%</td>\n",
       "      <td>60 months</td>\n",
       "      <td>debt_consolidation</td>\n",
       "      <td>23.81%</td>\n",
       "      <td>CA</td>\n",
       "      <td>MORTGAGE</td>\n",
       "      <td>11500.00</td>\n",
       "      <td>690-694</td>\n",
       "      <td>14.0</td>\n",
       "      <td>21977.0</td>\n",
       "      <td>1.0</td>\n",
       "      <td>2 years</td>\n",
       "    </tr>\n",
       "    <tr>\n",
       "      <th>3</th>\n",
       "      <td>4</td>\n",
       "      <td>10000.0</td>\n",
       "      <td>9975.0</td>\n",
       "      <td>9.99%</td>\n",
       "      <td>36 months</td>\n",
       "      <td>debt_consolidation</td>\n",
       "      <td>14.30%</td>\n",
       "      <td>KS</td>\n",
       "      <td>MORTGAGE</td>\n",
       "      <td>3833.33</td>\n",
       "      <td>695-699</td>\n",
       "      <td>10.0</td>\n",
       "      <td>9346.0</td>\n",
       "      <td>0.0</td>\n",
       "      <td>5 years</td>\n",
       "    </tr>\n",
       "  </tbody>\n",
       "</table>\n",
       "</div>"
      ],
      "text/plain": [
       "   LoanID  Amount.Requested  Amount.Funded.By.Investors Interest.Rate  \\\n",
       "1       2           19200.0                     19200.0        12.12%   \n",
       "2       3           35000.0                     35000.0        21.98%   \n",
       "3       4           10000.0                      9975.0         9.99%   \n",
       "\n",
       "  Loan.Length        Loan.Purpose Debt.To.Income.Ratio State Home.Ownership  \\\n",
       "1   36 months  debt_consolidation               28.36%    TX       MORTGAGE   \n",
       "2   60 months  debt_consolidation               23.81%    CA       MORTGAGE   \n",
       "3   36 months  debt_consolidation               14.30%    KS       MORTGAGE   \n",
       "\n",
       "   Monthly.Income FICO.Range  Open.CREDIT.Lines  Revolving.CREDIT.Balance  \\\n",
       "1         4583.33    715-719               12.0                   11140.0   \n",
       "2        11500.00    690-694               14.0                   21977.0   \n",
       "3         3833.33    695-699               10.0                    9346.0   \n",
       "\n",
       "   Inquiries.in.the.Last.6.Months Employment.Length  \n",
       "1                             1.0           2 years  \n",
       "2                             1.0           2 years  \n",
       "3                             0.0           5 years  "
      ]
     },
     "execution_count": 440,
     "metadata": {},
     "output_type": "execute_result"
    }
   ],
   "source": [
    "data.iloc[1:4,]"
   ]
  },
  {
   "cell_type": "code",
   "execution_count": 441,
   "id": "92f88f2a",
   "metadata": {},
   "outputs": [
    {
     "data": {
      "text/plain": [
       "(2500, 15)"
      ]
     },
     "execution_count": 441,
     "metadata": {},
     "output_type": "execute_result"
    }
   ],
   "source": [
    "                 #Checking the shape of the data\n",
    "data.shape       #There are 2500 records and 15 variables available in the data."
   ]
  },
  {
   "cell_type": "code",
   "execution_count": 442,
   "id": "1fc7cfae",
   "metadata": {},
   "outputs": [
    {
     "data": {
      "text/html": [
       "<div>\n",
       "<style scoped>\n",
       "    .dataframe tbody tr th:only-of-type {\n",
       "        vertical-align: middle;\n",
       "    }\n",
       "\n",
       "    .dataframe tbody tr th {\n",
       "        vertical-align: top;\n",
       "    }\n",
       "\n",
       "    .dataframe thead th {\n",
       "        text-align: right;\n",
       "    }\n",
       "</style>\n",
       "<table border=\"1\" class=\"dataframe\">\n",
       "  <thead>\n",
       "    <tr style=\"text-align: right;\">\n",
       "      <th></th>\n",
       "      <th>LoanID</th>\n",
       "      <th>Amount.Requested</th>\n",
       "      <th>Amount.Funded.By.Investors</th>\n",
       "      <th>Interest.Rate</th>\n",
       "      <th>Loan.Length</th>\n",
       "      <th>Loan.Purpose</th>\n",
       "      <th>Debt.To.Income.Ratio</th>\n",
       "      <th>State</th>\n",
       "      <th>Home.Ownership</th>\n",
       "      <th>Monthly.Income</th>\n",
       "      <th>FICO.Range</th>\n",
       "      <th>Open.CREDIT.Lines</th>\n",
       "      <th>Revolving.CREDIT.Balance</th>\n",
       "      <th>Inquiries.in.the.Last.6.Months</th>\n",
       "      <th>Employment.Length</th>\n",
       "    </tr>\n",
       "  </thead>\n",
       "  <tbody>\n",
       "    <tr>\n",
       "      <th>0</th>\n",
       "      <td>1</td>\n",
       "      <td>20000.0</td>\n",
       "      <td>20000.0</td>\n",
       "      <td>8.90%</td>\n",
       "      <td>36 months</td>\n",
       "      <td>debt_consolidation</td>\n",
       "      <td>14.90%</td>\n",
       "      <td>SC</td>\n",
       "      <td>MORTGAGE</td>\n",
       "      <td>6541.67</td>\n",
       "      <td>735-739</td>\n",
       "      <td>14.0</td>\n",
       "      <td>14272.0</td>\n",
       "      <td>2.0</td>\n",
       "      <td>&lt; 1 year</td>\n",
       "    </tr>\n",
       "    <tr>\n",
       "      <th>1</th>\n",
       "      <td>2</td>\n",
       "      <td>19200.0</td>\n",
       "      <td>19200.0</td>\n",
       "      <td>12.12%</td>\n",
       "      <td>36 months</td>\n",
       "      <td>debt_consolidation</td>\n",
       "      <td>28.36%</td>\n",
       "      <td>TX</td>\n",
       "      <td>MORTGAGE</td>\n",
       "      <td>4583.33</td>\n",
       "      <td>715-719</td>\n",
       "      <td>12.0</td>\n",
       "      <td>11140.0</td>\n",
       "      <td>1.0</td>\n",
       "      <td>2 years</td>\n",
       "    </tr>\n",
       "  </tbody>\n",
       "</table>\n",
       "</div>"
      ],
      "text/plain": [
       "   LoanID  Amount.Requested  Amount.Funded.By.Investors Interest.Rate  \\\n",
       "0       1           20000.0                     20000.0         8.90%   \n",
       "1       2           19200.0                     19200.0        12.12%   \n",
       "\n",
       "  Loan.Length        Loan.Purpose Debt.To.Income.Ratio State Home.Ownership  \\\n",
       "0   36 months  debt_consolidation               14.90%    SC       MORTGAGE   \n",
       "1   36 months  debt_consolidation               28.36%    TX       MORTGAGE   \n",
       "\n",
       "   Monthly.Income FICO.Range  Open.CREDIT.Lines  Revolving.CREDIT.Balance  \\\n",
       "0         6541.67    735-739               14.0                   14272.0   \n",
       "1         4583.33    715-719               12.0                   11140.0   \n",
       "\n",
       "   Inquiries.in.the.Last.6.Months Employment.Length  \n",
       "0                             2.0          < 1 year  \n",
       "1                             1.0           2 years  "
      ]
     },
     "execution_count": 442,
     "metadata": {},
     "output_type": "execute_result"
    }
   ],
   "source": [
    "data.head(2)"
   ]
  },
  {
   "cell_type": "code",
   "execution_count": 443,
   "id": "18d2ceaf",
   "metadata": {},
   "outputs": [
    {
     "data": {
      "text/plain": [
       "Index(['LoanID', 'Amount_Requested', 'Amount_Funded_By_Investors',\n",
       "       'Interest_Rate', 'Loan_Length', 'Loan_Purpose', 'Debt_To_Income_Ratio',\n",
       "       'State', 'Home_Ownership', 'Monthly_Income', 'FICO_Range',\n",
       "       'Open_CREDIT_Lines', 'Revolving_CREDIT_Balance',\n",
       "       'Inquiries_in_the_Last_6_Months', 'Employment_Length'],\n",
       "      dtype='object')"
      ]
     },
     "execution_count": 443,
     "metadata": {},
     "output_type": "execute_result"
    }
   ],
   "source": [
    "data.columns = [i.replace('.','_') for i in data.columns]\n",
    "data.columns"
   ]
  },
  {
   "cell_type": "markdown",
   "id": "3a4f5765",
   "metadata": {},
   "source": [
    "### Performing necessary Datatype Conversions on the data."
   ]
  },
  {
   "cell_type": "code",
   "execution_count": 444,
   "id": "6fcebb18",
   "metadata": {},
   "outputs": [],
   "source": [
    "data['Debt_To_Income_Ratio']= data['Debt_To_Income_Ratio'].str.replace('%','').astype('float')"
   ]
  },
  {
   "cell_type": "code",
   "execution_count": 445,
   "id": "1254e0b5",
   "metadata": {},
   "outputs": [],
   "source": [
    "data['Employment_Length'] = data['Employment_Length'].str.replace('years','').str.replace('year','').str.replace('<','').str.replace('+','').astype('float')"
   ]
  },
  {
   "cell_type": "code",
   "execution_count": 446,
   "id": "e24fec3b",
   "metadata": {},
   "outputs": [],
   "source": [
    "data['Interest_Rate'] = data['Interest_Rate'].str.replace('%','').astype('float')"
   ]
  },
  {
   "cell_type": "code",
   "execution_count": 447,
   "id": "de79c7b0",
   "metadata": {},
   "outputs": [],
   "source": [
    "data['Loan_Length'] = data['Loan_Length'].str.replace('months','').astype('float')"
   ]
  },
  {
   "cell_type": "code",
   "execution_count": 448,
   "id": "05ebf6d7",
   "metadata": {},
   "outputs": [
    {
     "data": {
      "text/html": [
       "<div>\n",
       "<style scoped>\n",
       "    .dataframe tbody tr th:only-of-type {\n",
       "        vertical-align: middle;\n",
       "    }\n",
       "\n",
       "    .dataframe tbody tr th {\n",
       "        vertical-align: top;\n",
       "    }\n",
       "\n",
       "    .dataframe thead th {\n",
       "        text-align: right;\n",
       "    }\n",
       "</style>\n",
       "<table border=\"1\" class=\"dataframe\">\n",
       "  <thead>\n",
       "    <tr style=\"text-align: right;\">\n",
       "      <th></th>\n",
       "      <th>LoanID</th>\n",
       "      <th>Amount_Requested</th>\n",
       "      <th>Amount_Funded_By_Investors</th>\n",
       "      <th>Interest_Rate</th>\n",
       "      <th>Loan_Length</th>\n",
       "      <th>Loan_Purpose</th>\n",
       "      <th>Debt_To_Income_Ratio</th>\n",
       "      <th>State</th>\n",
       "      <th>Home_Ownership</th>\n",
       "      <th>Monthly_Income</th>\n",
       "      <th>FICO_Range</th>\n",
       "      <th>Open_CREDIT_Lines</th>\n",
       "      <th>Revolving_CREDIT_Balance</th>\n",
       "      <th>Inquiries_in_the_Last_6_Months</th>\n",
       "      <th>Employment_Length</th>\n",
       "    </tr>\n",
       "  </thead>\n",
       "  <tbody>\n",
       "    <tr>\n",
       "      <th>0</th>\n",
       "      <td>1</td>\n",
       "      <td>20000.0</td>\n",
       "      <td>20000.0</td>\n",
       "      <td>8.90</td>\n",
       "      <td>36.0</td>\n",
       "      <td>debt_consolidation</td>\n",
       "      <td>14.90</td>\n",
       "      <td>SC</td>\n",
       "      <td>MORTGAGE</td>\n",
       "      <td>6541.67</td>\n",
       "      <td>735-739</td>\n",
       "      <td>14.0</td>\n",
       "      <td>14272.0</td>\n",
       "      <td>2.0</td>\n",
       "      <td>1.0</td>\n",
       "    </tr>\n",
       "    <tr>\n",
       "      <th>1</th>\n",
       "      <td>2</td>\n",
       "      <td>19200.0</td>\n",
       "      <td>19200.0</td>\n",
       "      <td>12.12</td>\n",
       "      <td>36.0</td>\n",
       "      <td>debt_consolidation</td>\n",
       "      <td>28.36</td>\n",
       "      <td>TX</td>\n",
       "      <td>MORTGAGE</td>\n",
       "      <td>4583.33</td>\n",
       "      <td>715-719</td>\n",
       "      <td>12.0</td>\n",
       "      <td>11140.0</td>\n",
       "      <td>1.0</td>\n",
       "      <td>2.0</td>\n",
       "    </tr>\n",
       "    <tr>\n",
       "      <th>2</th>\n",
       "      <td>3</td>\n",
       "      <td>35000.0</td>\n",
       "      <td>35000.0</td>\n",
       "      <td>21.98</td>\n",
       "      <td>60.0</td>\n",
       "      <td>debt_consolidation</td>\n",
       "      <td>23.81</td>\n",
       "      <td>CA</td>\n",
       "      <td>MORTGAGE</td>\n",
       "      <td>11500.00</td>\n",
       "      <td>690-694</td>\n",
       "      <td>14.0</td>\n",
       "      <td>21977.0</td>\n",
       "      <td>1.0</td>\n",
       "      <td>2.0</td>\n",
       "    </tr>\n",
       "    <tr>\n",
       "      <th>3</th>\n",
       "      <td>4</td>\n",
       "      <td>10000.0</td>\n",
       "      <td>9975.0</td>\n",
       "      <td>9.99</td>\n",
       "      <td>36.0</td>\n",
       "      <td>debt_consolidation</td>\n",
       "      <td>14.30</td>\n",
       "      <td>KS</td>\n",
       "      <td>MORTGAGE</td>\n",
       "      <td>3833.33</td>\n",
       "      <td>695-699</td>\n",
       "      <td>10.0</td>\n",
       "      <td>9346.0</td>\n",
       "      <td>0.0</td>\n",
       "      <td>5.0</td>\n",
       "    </tr>\n",
       "    <tr>\n",
       "      <th>4</th>\n",
       "      <td>5</td>\n",
       "      <td>12000.0</td>\n",
       "      <td>12000.0</td>\n",
       "      <td>11.71</td>\n",
       "      <td>36.0</td>\n",
       "      <td>credit_card</td>\n",
       "      <td>18.78</td>\n",
       "      <td>NJ</td>\n",
       "      <td>RENT</td>\n",
       "      <td>3195.00</td>\n",
       "      <td>695-699</td>\n",
       "      <td>11.0</td>\n",
       "      <td>14469.0</td>\n",
       "      <td>0.0</td>\n",
       "      <td>9.0</td>\n",
       "    </tr>\n",
       "  </tbody>\n",
       "</table>\n",
       "</div>"
      ],
      "text/plain": [
       "   LoanID  Amount_Requested  Amount_Funded_By_Investors  Interest_Rate  \\\n",
       "0       1           20000.0                     20000.0           8.90   \n",
       "1       2           19200.0                     19200.0          12.12   \n",
       "2       3           35000.0                     35000.0          21.98   \n",
       "3       4           10000.0                      9975.0           9.99   \n",
       "4       5           12000.0                     12000.0          11.71   \n",
       "\n",
       "   Loan_Length        Loan_Purpose  Debt_To_Income_Ratio State Home_Ownership  \\\n",
       "0         36.0  debt_consolidation                 14.90    SC       MORTGAGE   \n",
       "1         36.0  debt_consolidation                 28.36    TX       MORTGAGE   \n",
       "2         60.0  debt_consolidation                 23.81    CA       MORTGAGE   \n",
       "3         36.0  debt_consolidation                 14.30    KS       MORTGAGE   \n",
       "4         36.0         credit_card                 18.78    NJ           RENT   \n",
       "\n",
       "   Monthly_Income FICO_Range  Open_CREDIT_Lines  Revolving_CREDIT_Balance  \\\n",
       "0         6541.67    735-739               14.0                   14272.0   \n",
       "1         4583.33    715-719               12.0                   11140.0   \n",
       "2        11500.00    690-694               14.0                   21977.0   \n",
       "3         3833.33    695-699               10.0                    9346.0   \n",
       "4         3195.00    695-699               11.0                   14469.0   \n",
       "\n",
       "   Inquiries_in_the_Last_6_Months  Employment_Length  \n",
       "0                             2.0                1.0  \n",
       "1                             1.0                2.0  \n",
       "2                             1.0                2.0  \n",
       "3                             0.0                5.0  \n",
       "4                             0.0                9.0  "
      ]
     },
     "execution_count": 448,
     "metadata": {},
     "output_type": "execute_result"
    }
   ],
   "source": [
    "data.head()"
   ]
  },
  {
   "cell_type": "code",
   "execution_count": 449,
   "id": "258ba338",
   "metadata": {},
   "outputs": [],
   "source": [
    "data['FICO_Range'] = data['FICO_Range'].str.split('-',expand = True)[0].astype('float')"
   ]
  },
  {
   "cell_type": "code",
   "execution_count": 450,
   "id": "d64e27e4",
   "metadata": {},
   "outputs": [
    {
     "data": {
      "text/html": [
       "<div>\n",
       "<style scoped>\n",
       "    .dataframe tbody tr th:only-of-type {\n",
       "        vertical-align: middle;\n",
       "    }\n",
       "\n",
       "    .dataframe tbody tr th {\n",
       "        vertical-align: top;\n",
       "    }\n",
       "\n",
       "    .dataframe thead th {\n",
       "        text-align: right;\n",
       "    }\n",
       "</style>\n",
       "<table border=\"1\" class=\"dataframe\">\n",
       "  <thead>\n",
       "    <tr style=\"text-align: right;\">\n",
       "      <th></th>\n",
       "      <th>LoanID</th>\n",
       "      <th>Amount_Requested</th>\n",
       "      <th>Amount_Funded_By_Investors</th>\n",
       "      <th>Interest_Rate</th>\n",
       "      <th>Loan_Length</th>\n",
       "      <th>Loan_Purpose</th>\n",
       "      <th>Debt_To_Income_Ratio</th>\n",
       "      <th>State</th>\n",
       "      <th>Home_Ownership</th>\n",
       "      <th>Monthly_Income</th>\n",
       "      <th>FICO_Range</th>\n",
       "      <th>Open_CREDIT_Lines</th>\n",
       "      <th>Revolving_CREDIT_Balance</th>\n",
       "      <th>Inquiries_in_the_Last_6_Months</th>\n",
       "      <th>Employment_Length</th>\n",
       "    </tr>\n",
       "  </thead>\n",
       "  <tbody>\n",
       "    <tr>\n",
       "      <th>0</th>\n",
       "      <td>1</td>\n",
       "      <td>20000.0</td>\n",
       "      <td>20000.0</td>\n",
       "      <td>8.90</td>\n",
       "      <td>36.0</td>\n",
       "      <td>debt_consolidation</td>\n",
       "      <td>14.90</td>\n",
       "      <td>SC</td>\n",
       "      <td>MORTGAGE</td>\n",
       "      <td>6541.67</td>\n",
       "      <td>735.0</td>\n",
       "      <td>14.0</td>\n",
       "      <td>14272.0</td>\n",
       "      <td>2.0</td>\n",
       "      <td>1.0</td>\n",
       "    </tr>\n",
       "    <tr>\n",
       "      <th>1</th>\n",
       "      <td>2</td>\n",
       "      <td>19200.0</td>\n",
       "      <td>19200.0</td>\n",
       "      <td>12.12</td>\n",
       "      <td>36.0</td>\n",
       "      <td>debt_consolidation</td>\n",
       "      <td>28.36</td>\n",
       "      <td>TX</td>\n",
       "      <td>MORTGAGE</td>\n",
       "      <td>4583.33</td>\n",
       "      <td>715.0</td>\n",
       "      <td>12.0</td>\n",
       "      <td>11140.0</td>\n",
       "      <td>1.0</td>\n",
       "      <td>2.0</td>\n",
       "    </tr>\n",
       "    <tr>\n",
       "      <th>2</th>\n",
       "      <td>3</td>\n",
       "      <td>35000.0</td>\n",
       "      <td>35000.0</td>\n",
       "      <td>21.98</td>\n",
       "      <td>60.0</td>\n",
       "      <td>debt_consolidation</td>\n",
       "      <td>23.81</td>\n",
       "      <td>CA</td>\n",
       "      <td>MORTGAGE</td>\n",
       "      <td>11500.00</td>\n",
       "      <td>690.0</td>\n",
       "      <td>14.0</td>\n",
       "      <td>21977.0</td>\n",
       "      <td>1.0</td>\n",
       "      <td>2.0</td>\n",
       "    </tr>\n",
       "    <tr>\n",
       "      <th>3</th>\n",
       "      <td>4</td>\n",
       "      <td>10000.0</td>\n",
       "      <td>9975.0</td>\n",
       "      <td>9.99</td>\n",
       "      <td>36.0</td>\n",
       "      <td>debt_consolidation</td>\n",
       "      <td>14.30</td>\n",
       "      <td>KS</td>\n",
       "      <td>MORTGAGE</td>\n",
       "      <td>3833.33</td>\n",
       "      <td>695.0</td>\n",
       "      <td>10.0</td>\n",
       "      <td>9346.0</td>\n",
       "      <td>0.0</td>\n",
       "      <td>5.0</td>\n",
       "    </tr>\n",
       "    <tr>\n",
       "      <th>4</th>\n",
       "      <td>5</td>\n",
       "      <td>12000.0</td>\n",
       "      <td>12000.0</td>\n",
       "      <td>11.71</td>\n",
       "      <td>36.0</td>\n",
       "      <td>credit_card</td>\n",
       "      <td>18.78</td>\n",
       "      <td>NJ</td>\n",
       "      <td>RENT</td>\n",
       "      <td>3195.00</td>\n",
       "      <td>695.0</td>\n",
       "      <td>11.0</td>\n",
       "      <td>14469.0</td>\n",
       "      <td>0.0</td>\n",
       "      <td>9.0</td>\n",
       "    </tr>\n",
       "  </tbody>\n",
       "</table>\n",
       "</div>"
      ],
      "text/plain": [
       "   LoanID  Amount_Requested  Amount_Funded_By_Investors  Interest_Rate  \\\n",
       "0       1           20000.0                     20000.0           8.90   \n",
       "1       2           19200.0                     19200.0          12.12   \n",
       "2       3           35000.0                     35000.0          21.98   \n",
       "3       4           10000.0                      9975.0           9.99   \n",
       "4       5           12000.0                     12000.0          11.71   \n",
       "\n",
       "   Loan_Length        Loan_Purpose  Debt_To_Income_Ratio State Home_Ownership  \\\n",
       "0         36.0  debt_consolidation                 14.90    SC       MORTGAGE   \n",
       "1         36.0  debt_consolidation                 28.36    TX       MORTGAGE   \n",
       "2         60.0  debt_consolidation                 23.81    CA       MORTGAGE   \n",
       "3         36.0  debt_consolidation                 14.30    KS       MORTGAGE   \n",
       "4         36.0         credit_card                 18.78    NJ           RENT   \n",
       "\n",
       "   Monthly_Income  FICO_Range  Open_CREDIT_Lines  Revolving_CREDIT_Balance  \\\n",
       "0         6541.67       735.0               14.0                   14272.0   \n",
       "1         4583.33       715.0               12.0                   11140.0   \n",
       "2        11500.00       690.0               14.0                   21977.0   \n",
       "3         3833.33       695.0               10.0                    9346.0   \n",
       "4         3195.00       695.0               11.0                   14469.0   \n",
       "\n",
       "   Inquiries_in_the_Last_6_Months  Employment_Length  \n",
       "0                             2.0                1.0  \n",
       "1                             1.0                2.0  \n",
       "2                             1.0                2.0  \n",
       "3                             0.0                5.0  \n",
       "4                             0.0                9.0  "
      ]
     },
     "execution_count": 450,
     "metadata": {},
     "output_type": "execute_result"
    }
   ],
   "source": [
    "data.head()"
   ]
  },
  {
   "cell_type": "markdown",
   "id": "2fe65959",
   "metadata": {},
   "source": [
    "## Checking the relevant and irrelevant variables in the first phase of EDA"
   ]
  },
  {
   "cell_type": "code",
   "execution_count": 451,
   "id": "a892bb5b",
   "metadata": {},
   "outputs": [
    {
     "name": "stdout",
     "output_type": "stream",
     "text": [
      "<class 'pandas.core.frame.DataFrame'>\n",
      "RangeIndex: 2500 entries, 0 to 2499\n",
      "Data columns (total 15 columns):\n",
      " #   Column                          Non-Null Count  Dtype  \n",
      "---  ------                          --------------  -----  \n",
      " 0   LoanID                          2500 non-null   int64  \n",
      " 1   Amount_Requested                2499 non-null   float64\n",
      " 2   Amount_Funded_By_Investors      2499 non-null   float64\n",
      " 3   Interest_Rate                   2498 non-null   float64\n",
      " 4   Loan_Length                     2500 non-null   float64\n",
      " 5   Loan_Purpose                    2500 non-null   object \n",
      " 6   Debt_To_Income_Ratio            2499 non-null   float64\n",
      " 7   State                           2500 non-null   object \n",
      " 8   Home_Ownership                  2499 non-null   object \n",
      " 9   Monthly_Income                  2499 non-null   float64\n",
      " 10  FICO_Range                      2498 non-null   float64\n",
      " 11  Open_CREDIT_Lines               2497 non-null   float64\n",
      " 12  Revolving_CREDIT_Balance        2497 non-null   float64\n",
      " 13  Inquiries_in_the_Last_6_Months  2497 non-null   float64\n",
      " 14  Employment_Length               2423 non-null   float64\n",
      "dtypes: float64(11), int64(1), object(3)\n",
      "memory usage: 293.1+ KB\n"
     ]
    }
   ],
   "source": [
    "data.info()"
   ]
  },
  {
   "cell_type": "code",
   "execution_count": 452,
   "id": "bd6b1953",
   "metadata": {},
   "outputs": [
    {
     "data": {
      "text/plain": [
       "LoanID                            2500\n",
       "Amount_Requested                   380\n",
       "Amount_Funded_By_Investors         710\n",
       "Interest_Rate                      275\n",
       "Loan_Length                          2\n",
       "Loan_Purpose                        14\n",
       "Debt_To_Income_Ratio              1669\n",
       "State                               46\n",
       "Home_Ownership                       5\n",
       "Monthly_Income                     632\n",
       "FICO_Range                          38\n",
       "Open_CREDIT_Lines                   29\n",
       "Revolving_CREDIT_Balance          2349\n",
       "Inquiries_in_the_Last_6_Months      10\n",
       "Employment_Length                   10\n",
       "dtype: int64"
      ]
     },
     "execution_count": 452,
     "metadata": {},
     "output_type": "execute_result"
    }
   ],
   "source": [
    "data.nunique()           # we will get cardinality of each column\n",
    "                         # If there is any column with a cardinality of 1, Just drop it.\n",
    "                         # data.drop(columns = ['Country','Pincode'], inplace  = True)"
   ]
  },
  {
   "cell_type": "code",
   "execution_count": 453,
   "id": "2d6acc53",
   "metadata": {},
   "outputs": [
    {
     "name": "stdout",
     "output_type": "stream",
     "text": [
      "<class 'pandas.core.frame.DataFrame'>\n",
      "RangeIndex: 2500 entries, 0 to 2499\n",
      "Data columns (total 15 columns):\n",
      " #   Column                          Non-Null Count  Dtype  \n",
      "---  ------                          --------------  -----  \n",
      " 0   LoanID                          2500 non-null   int64  \n",
      " 1   Amount_Requested                2499 non-null   float64\n",
      " 2   Amount_Funded_By_Investors      2499 non-null   float64\n",
      " 3   Interest_Rate                   2498 non-null   float64\n",
      " 4   Loan_Length                     2500 non-null   float64\n",
      " 5   Loan_Purpose                    2500 non-null   object \n",
      " 6   Debt_To_Income_Ratio            2499 non-null   float64\n",
      " 7   State                           2500 non-null   object \n",
      " 8   Home_Ownership                  2499 non-null   object \n",
      " 9   Monthly_Income                  2499 non-null   float64\n",
      " 10  FICO_Range                      2498 non-null   float64\n",
      " 11  Open_CREDIT_Lines               2497 non-null   float64\n",
      " 12  Revolving_CREDIT_Balance        2497 non-null   float64\n",
      " 13  Inquiries_in_the_Last_6_Months  2497 non-null   float64\n",
      " 14  Employment_Length               2423 non-null   float64\n",
      "dtypes: float64(11), int64(1), object(3)\n",
      "memory usage: 293.1+ KB\n"
     ]
    }
   ],
   "source": [
    "data.info()"
   ]
  },
  {
   "cell_type": "code",
   "execution_count": 454,
   "id": "adb792ff",
   "metadata": {},
   "outputs": [
    {
     "data": {
      "text/plain": [
       "Loan_Length\n",
       "36.0    1952\n",
       "60.0     548\n",
       "Name: count, dtype: int64"
      ]
     },
     "execution_count": 454,
     "metadata": {},
     "output_type": "execute_result"
    }
   ],
   "source": [
    "data['Loan_Length'].value_counts()            #Always checks the value counts of object variable."
   ]
  },
  {
   "cell_type": "markdown",
   "id": "cef0d592",
   "metadata": {},
   "source": [
    "### Distribution of customers by loan lengths"
   ]
  },
  {
   "cell_type": "code",
   "execution_count": 455,
   "id": "bfdfeb48",
   "metadata": {},
   "outputs": [
    {
     "name": "stdout",
     "output_type": "stream",
     "text": [
      "Loan_Length\n",
      "36.0    1952\n",
      "60.0     548\n",
      "Name: count, dtype: int64\n"
     ]
    },
    {
     "data": {
      "text/plain": [
       "Text(0, 0.5, 'No of customers')"
      ]
     },
     "execution_count": 455,
     "metadata": {},
     "output_type": "execute_result"
    },
    {
     "data": {
      "image/png": "[encoded data removed]",
      "text/plain": [
       "<Figure size 500x500 with 1 Axes>"
      ]
     },
     "metadata": {},
     "output_type": "display_data"
    }
   ],
   "source": [
    "print(data['Loan_Length'].value_counts())\n",
    "data['Loan_Length'].value_counts().plot(kind = 'bar',color = 'red',figsize = (5,5))\n",
    "plt.title(\"Distribution of customers by their loan lengths.\")\n",
    "plt.xlabel(\"Loan length\")\n",
    "plt.ylabel(\"No of customers\")"
   ]
  },
  {
   "cell_type": "markdown",
   "id": "bc42ca32",
   "metadata": {},
   "source": [
    "**Most of the customers are choose the loan length of 36.0.**"
   ]
  },
  {
   "cell_type": "markdown",
   "id": "f128c50e",
   "metadata": {},
   "source": [
    "### Distribution of customers by State"
   ]
  },
  {
   "cell_type": "code",
   "execution_count": 456,
   "id": "b3460281",
   "metadata": {},
   "outputs": [
    {
     "name": "stdout",
     "output_type": "stream",
     "text": [
      "State\n",
      "CA    433\n",
      "NY    255\n",
      "TX    174\n",
      "FL    169\n",
      "IL    101\n",
      "GA     98\n",
      "PA     96\n",
      "NJ     94\n",
      "VA     78\n",
      "MA     73\n",
      "OH     71\n",
      "MD     68\n",
      "NC     64\n",
      "CO     61\n",
      "WA     58\n",
      "CT     50\n",
      "AZ     46\n",
      "MI     45\n",
      "MN     38\n",
      "AL     38\n",
      "MO     33\n",
      "NV     32\n",
      "OR     30\n",
      "SC     28\n",
      "WI     26\n",
      "KY     23\n",
      "LA     22\n",
      "OK     21\n",
      "KS     21\n",
      "UT     16\n",
      "NH     15\n",
      "RI     15\n",
      "WV     15\n",
      "NM     13\n",
      "AR     13\n",
      "HI     12\n",
      "AK     11\n",
      "DC     11\n",
      "DE      8\n",
      "MT      7\n",
      "VT      5\n",
      "SD      4\n",
      "WY      4\n",
      "IN      3\n",
      "IA      1\n",
      "MS      1\n",
      "Name: count, dtype: int64\n"
     ]
    },
    {
     "data": {
      "text/plain": [
       "Text(0, 0.5, 'No of customers')"
      ]
     },
     "execution_count": 456,
     "metadata": {},
     "output_type": "execute_result"
    },
    {
     "data": {
      "image/png": "[encoded data removed]",
      "text/plain": [
       "<Figure size 2000x1500 with 1 Axes>"
      ]
     },
     "metadata": {},
     "output_type": "display_data"
    }
   ],
   "source": [
    "print(data['State'].value_counts())\n",
    "data['State'].value_counts().plot(kind = 'bar',color = 'green',figsize = (20,15))\n",
    "plt.title(\"Distribution of customers by their State.\")\n",
    "plt.xlabel(\"States\")\n",
    "plt.ylabel(\"No of customers\")"
   ]
  },
  {
   "cell_type": "markdown",
   "id": "324d5ebb",
   "metadata": {},
   "source": [
    "**State CA have most number of customers above 300.**"
   ]
  },
  {
   "cell_type": "markdown",
   "id": "667379c2",
   "metadata": {},
   "source": [
    "### Distribution of customers by loan purpose"
   ]
  },
  {
   "cell_type": "code",
   "execution_count": 457,
   "id": "624d75c9",
   "metadata": {},
   "outputs": [
    {
     "name": "stdout",
     "output_type": "stream",
     "text": [
      "Loan_Purpose\n",
      "debt_consolidation    1307\n",
      "credit_card            444\n",
      "other                  201\n",
      "home_improvement       152\n",
      "major_purchase         101\n",
      "small_business          87\n",
      "car                     50\n",
      "wedding                 39\n",
      "medical                 30\n",
      "moving                  29\n",
      "vacation                21\n",
      "house                   20\n",
      "educational             15\n",
      "renewable_energy         4\n",
      "Name: count, dtype: int64\n"
     ]
    },
    {
     "data": {
      "text/plain": [
       "Text(0, 0.5, 'No of customers')"
      ]
     },
     "execution_count": 457,
     "metadata": {},
     "output_type": "execute_result"
    },
    {
     "data": {
      "image/png": "[encoded data removed]",
      "text/plain": [
       "<Figure size 1000x500 with 1 Axes>"
      ]
     },
     "metadata": {},
     "output_type": "display_data"
    }
   ],
   "source": [
    "print(data['Loan_Purpose'].value_counts())\n",
    "data['Loan_Purpose'].value_counts().plot(kind = 'bar',color = 'purple',figsize = (10,5))\n",
    "plt.title(\"Distribution of customers by their Loan_Purpose.\")\n",
    "plt.xlabel(\"Loan_Purpose\")\n",
    "plt.ylabel(\"No of customers\")"
   ]
  },
  {
   "cell_type": "markdown",
   "id": "c1b84a3e",
   "metadata": {},
   "source": [
    "**Most of the customers purpose of loan is debt_consolidation.**"
   ]
  },
  {
   "cell_type": "markdown",
   "id": "44d21308",
   "metadata": {},
   "source": [
    "### Distribution of customers by Home ownership"
   ]
  },
  {
   "cell_type": "code",
   "execution_count": 458,
   "id": "0638e8c6",
   "metadata": {},
   "outputs": [
    {
     "name": "stdout",
     "output_type": "stream",
     "text": [
      "Home_Ownership\n",
      "MORTGAGE    1147\n",
      "RENT        1146\n",
      "OWN          200\n",
      "OTHER          5\n",
      "NONE           1\n",
      "Name: count, dtype: int64\n"
     ]
    },
    {
     "data": {
      "text/plain": [
       "Text(0, 0.5, 'No of customers')"
      ]
     },
     "execution_count": 458,
     "metadata": {},
     "output_type": "execute_result"
    },
    {
     "data": {
      "image/png": "[encoded data removed]",
      "text/plain": [
       "<Figure size 800x500 with 1 Axes>"
      ]
     },
     "metadata": {},
     "output_type": "display_data"
    }
   ],
   "source": [
    "print(data['Home_Ownership'].value_counts())\n",
    "data['Home_Ownership'].value_counts().plot(kind = 'bar',color = 'brown',figsize = (8,5))\n",
    "plt.title(\"Distribution of customers by their Home_Ownership.\")\n",
    "plt.xlabel(\"Home_Ownership\")\n",
    "plt.ylabel(\"No of customers\")"
   ]
  },
  {
   "cell_type": "markdown",
   "id": "fdc836a2",
   "metadata": {},
   "source": [
    "**1147 customers are mortgage loans to owner the home and rent home ownership is 1146. Most of the customers are having these two ownerships .**"
   ]
  },
  {
   "cell_type": "markdown",
   "id": "fc370a3d",
   "metadata": {},
   "source": [
    "### Distribution of Employment.Length by their loan lengths"
   ]
  },
  {
   "cell_type": "code",
   "execution_count": 459,
   "id": "029b7514",
   "metadata": {},
   "outputs": [
    {
     "name": "stdout",
     "output_type": "stream",
     "text": [
      "Loan_Length\n",
      "36.0    1952\n",
      "60.0     548\n",
      "Name: count, dtype: int64\n"
     ]
    },
    {
     "data": {
      "text/plain": [
       "Text(0, 0.5, 'Employment.Length')"
      ]
     },
     "execution_count": 459,
     "metadata": {},
     "output_type": "execute_result"
    },
    {
     "data": {
      "image/png": "[encoded data removed]",
      "text/plain": [
       "<Figure size 800x500 with 1 Axes>"
      ]
     },
     "metadata": {},
     "output_type": "display_data"
    }
   ],
   "source": [
    "print(data['Loan_Length'].value_counts())\n",
    "data['Loan_Length'].value_counts().plot(kind = 'line',color = 'black',figsize = (8,5))\n",
    "plt.title(\"Distribution of Employment.Length by their loan lengths.\")\n",
    "plt.xlabel(\"Loan length\")\n",
    "plt.ylabel(\"Employment.Length\")"
   ]
  },
  {
   "cell_type": "markdown",
   "id": "679baccc",
   "metadata": {},
   "source": [
    "**Here the Employment Length increase then the loan length decreases.**"
   ]
  },
  {
   "cell_type": "markdown",
   "id": "d7b1ed0e",
   "metadata": {},
   "source": [
    "### Amount requested vs Interest Rate"
   ]
  },
  {
   "cell_type": "code",
   "execution_count": 461,
   "id": "a1e98943",
   "metadata": {},
   "outputs": [
    {
     "data": {
      "image/png": "[encoded data removed]",
      "text/plain": [
       "<Figure size 640x480 with 2 Axes>"
      ]
     },
     "metadata": {},
     "output_type": "display_data"
    }
   ],
   "source": [
    "\n",
    "plt.scatter(data['Amount_Requested'],data['Interest_Rate'])\n",
    "plt.title(\"Amount requested vs interest rate\")\n",
    "plt.xlabel('Amount_Requested')\n",
    "plt.ylabel('Interest_Rate')\n",
    "plt.colorbar()\n",
    "plt.show()"
   ]
  },
  {
   "cell_type": "markdown",
   "id": "b6ed72a0",
   "metadata": {},
   "source": [
    "**Most of the customers requested amount upto 15000 and mostly fetches the interest rate between 7.5 and 17.5.**"
   ]
  },
  {
   "cell_type": "markdown",
   "id": "e7462921",
   "metadata": {},
   "source": [
    "### Histograms"
   ]
  },
  {
   "cell_type": "code",
   "execution_count": 462,
   "id": "47f78ed6",
   "metadata": {},
   "outputs": [
    {
     "data": {
      "image/png": "[encoded data removed]",
      "text/plain": [
       "<Figure size 640x480 with 1 Axes>"
      ]
     },
     "metadata": {},
     "output_type": "display_data"
    }
   ],
   "source": [
    "plt.hist(data['Interest_Rate'],color='yellow')\n",
    "plt.title('Interest_Rate')\n",
    "plt.show()"
   ]
  },
  {
   "cell_type": "code",
   "execution_count": 463,
   "id": "7b8e609a",
   "metadata": {},
   "outputs": [
    {
     "data": {
      "image/png": "[encoded data removed]",
      "text/plain": [
       "<Figure size 640x480 with 1 Axes>"
      ]
     },
     "metadata": {},
     "output_type": "display_data"
    }
   ],
   "source": [
    "plt.hist(data['Debt_To_Income_Ratio'],color='violet')\n",
    "plt.title('Debt_To_Income_Ratio')\n",
    "plt.show()"
   ]
  },
  {
   "cell_type": "code",
   "execution_count": null,
   "id": "d7990b39",
   "metadata": {},
   "outputs": [],
   "source": []
  },
  {
   "cell_type": "markdown",
   "id": "3454fee0",
   "metadata": {},
   "source": [
    "## Data Duplicacy: Chech if their is duplicate data or not: DDT ( Data Duplicacy Treatment)"
   ]
  },
  {
   "cell_type": "code",
   "execution_count": 464,
   "id": "3b14ce5c",
   "metadata": {},
   "outputs": [
    {
     "data": {
      "text/plain": [
       "False    2500\n",
       "Name: count, dtype: int64"
      ]
     },
     "execution_count": 464,
     "metadata": {},
     "output_type": "execute_result"
    }
   ],
   "source": [
    "data.duplicated().value_counts()                 # Check the data duplicacy:"
   ]
  },
  {
   "cell_type": "code",
   "execution_count": 465,
   "id": "6f1d2a98",
   "metadata": {},
   "outputs": [
    {
     "data": {
      "text/plain": [
       "0"
      ]
     },
     "execution_count": 465,
     "metadata": {},
     "output_type": "execute_result"
    }
   ],
   "source": [
    "data.duplicated().sum()"
   ]
  },
  {
   "cell_type": "markdown",
   "id": "68345088",
   "metadata": {},
   "source": [
    "**There is no data duplicacy in our data**"
   ]
  },
  {
   "cell_type": "markdown",
   "id": "31cf02a2",
   "metadata": {},
   "source": [
    "## Rename the variables"
   ]
  },
  {
   "cell_type": "code",
   "execution_count": 466,
   "id": "963d4b29",
   "metadata": {},
   "outputs": [
    {
     "data": {
      "text/plain": [
       "Index(['LoanID', 'Amount_Requested', 'Amount_Funded_By_Investors',\n",
       "       'Interest_Rate', 'Loan_Length', 'Loan_Purpose', 'Debt_To_Income_Ratio',\n",
       "       'State', 'Home_Ownership', 'Monthly_Income', 'FICO_Range',\n",
       "       'Open_CREDIT_Lines', 'Revolving_CREDIT_Balance',\n",
       "       'Inquiries_in_the_Last_6_Months', 'Employment_Length'],\n",
       "      dtype='object')"
      ]
     },
     "execution_count": 466,
     "metadata": {},
     "output_type": "execute_result"
    }
   ],
   "source": [
    "data.columns"
   ]
  },
  {
   "cell_type": "code",
   "execution_count": 467,
   "id": "b84f6022",
   "metadata": {},
   "outputs": [
    {
     "data": {
      "text/plain": [
       "Index(['Loan_id', 'Amount_Requested', 'Amount_Funded_By_Investors',\n",
       "       'Interest_Rate', 'Loan_Length', 'Loan_Purpose', 'Debt_To_Income_Ratio',\n",
       "       'States', 'Home_Ownership', 'Monthly_Income', 'FICO_Range',\n",
       "       'Open_CREDIT_Lines', 'Revolving_CREDIT_Balance',\n",
       "       'Inquiries_in_the_Last_6_Months', 'Employment_Length'],\n",
       "      dtype='object')"
      ]
     },
     "execution_count": 467,
     "metadata": {},
     "output_type": "execute_result"
    }
   ],
   "source": [
    "data = data.rename(columns = {'LoanID':'Loan_id','State':'States'})\n",
    "data.columns"
   ]
  },
  {
   "cell_type": "markdown",
   "id": "08749467",
   "metadata": {},
   "source": [
    "## Missing Values Treatment"
   ]
  },
  {
   "cell_type": "code",
   "execution_count": 468,
   "id": "ea95bb5c",
   "metadata": {},
   "outputs": [
    {
     "data": {
      "text/html": [
       "<div>\n",
       "<style scoped>\n",
       "    .dataframe tbody tr th:only-of-type {\n",
       "        vertical-align: middle;\n",
       "    }\n",
       "\n",
       "    .dataframe tbody tr th {\n",
       "        vertical-align: top;\n",
       "    }\n",
       "\n",
       "    .dataframe thead th {\n",
       "        text-align: right;\n",
       "    }\n",
       "</style>\n",
       "<table border=\"1\" class=\"dataframe\">\n",
       "  <thead>\n",
       "    <tr style=\"text-align: right;\">\n",
       "      <th></th>\n",
       "      <th>Loan_id</th>\n",
       "      <th>Amount_Requested</th>\n",
       "      <th>Amount_Funded_By_Investors</th>\n",
       "      <th>Interest_Rate</th>\n",
       "      <th>Loan_Length</th>\n",
       "      <th>Loan_Purpose</th>\n",
       "      <th>Debt_To_Income_Ratio</th>\n",
       "      <th>States</th>\n",
       "      <th>Home_Ownership</th>\n",
       "      <th>Monthly_Income</th>\n",
       "      <th>FICO_Range</th>\n",
       "      <th>Open_CREDIT_Lines</th>\n",
       "      <th>Revolving_CREDIT_Balance</th>\n",
       "      <th>Inquiries_in_the_Last_6_Months</th>\n",
       "      <th>Employment_Length</th>\n",
       "    </tr>\n",
       "  </thead>\n",
       "  <tbody>\n",
       "    <tr>\n",
       "      <th>0</th>\n",
       "      <td>1</td>\n",
       "      <td>20000.0</td>\n",
       "      <td>20000.0</td>\n",
       "      <td>8.90</td>\n",
       "      <td>36.0</td>\n",
       "      <td>debt_consolidation</td>\n",
       "      <td>14.90</td>\n",
       "      <td>SC</td>\n",
       "      <td>MORTGAGE</td>\n",
       "      <td>6541.67</td>\n",
       "      <td>735.0</td>\n",
       "      <td>14.0</td>\n",
       "      <td>14272.0</td>\n",
       "      <td>2.0</td>\n",
       "      <td>1.0</td>\n",
       "    </tr>\n",
       "    <tr>\n",
       "      <th>1</th>\n",
       "      <td>2</td>\n",
       "      <td>19200.0</td>\n",
       "      <td>19200.0</td>\n",
       "      <td>12.12</td>\n",
       "      <td>36.0</td>\n",
       "      <td>debt_consolidation</td>\n",
       "      <td>28.36</td>\n",
       "      <td>TX</td>\n",
       "      <td>MORTGAGE</td>\n",
       "      <td>4583.33</td>\n",
       "      <td>715.0</td>\n",
       "      <td>12.0</td>\n",
       "      <td>11140.0</td>\n",
       "      <td>1.0</td>\n",
       "      <td>2.0</td>\n",
       "    </tr>\n",
       "    <tr>\n",
       "      <th>2</th>\n",
       "      <td>3</td>\n",
       "      <td>35000.0</td>\n",
       "      <td>35000.0</td>\n",
       "      <td>21.98</td>\n",
       "      <td>60.0</td>\n",
       "      <td>debt_consolidation</td>\n",
       "      <td>23.81</td>\n",
       "      <td>CA</td>\n",
       "      <td>MORTGAGE</td>\n",
       "      <td>11500.00</td>\n",
       "      <td>690.0</td>\n",
       "      <td>14.0</td>\n",
       "      <td>21977.0</td>\n",
       "      <td>1.0</td>\n",
       "      <td>2.0</td>\n",
       "    </tr>\n",
       "    <tr>\n",
       "      <th>3</th>\n",
       "      <td>4</td>\n",
       "      <td>10000.0</td>\n",
       "      <td>9975.0</td>\n",
       "      <td>9.99</td>\n",
       "      <td>36.0</td>\n",
       "      <td>debt_consolidation</td>\n",
       "      <td>14.30</td>\n",
       "      <td>KS</td>\n",
       "      <td>MORTGAGE</td>\n",
       "      <td>3833.33</td>\n",
       "      <td>695.0</td>\n",
       "      <td>10.0</td>\n",
       "      <td>9346.0</td>\n",
       "      <td>0.0</td>\n",
       "      <td>5.0</td>\n",
       "    </tr>\n",
       "    <tr>\n",
       "      <th>4</th>\n",
       "      <td>5</td>\n",
       "      <td>12000.0</td>\n",
       "      <td>12000.0</td>\n",
       "      <td>11.71</td>\n",
       "      <td>36.0</td>\n",
       "      <td>credit_card</td>\n",
       "      <td>18.78</td>\n",
       "      <td>NJ</td>\n",
       "      <td>RENT</td>\n",
       "      <td>3195.00</td>\n",
       "      <td>695.0</td>\n",
       "      <td>11.0</td>\n",
       "      <td>14469.0</td>\n",
       "      <td>0.0</td>\n",
       "      <td>9.0</td>\n",
       "    </tr>\n",
       "  </tbody>\n",
       "</table>\n",
       "</div>"
      ],
      "text/plain": [
       "   Loan_id  Amount_Requested  Amount_Funded_By_Investors  Interest_Rate  \\\n",
       "0        1           20000.0                     20000.0           8.90   \n",
       "1        2           19200.0                     19200.0          12.12   \n",
       "2        3           35000.0                     35000.0          21.98   \n",
       "3        4           10000.0                      9975.0           9.99   \n",
       "4        5           12000.0                     12000.0          11.71   \n",
       "\n",
       "   Loan_Length        Loan_Purpose  Debt_To_Income_Ratio States  \\\n",
       "0         36.0  debt_consolidation                 14.90     SC   \n",
       "1         36.0  debt_consolidation                 28.36     TX   \n",
       "2         60.0  debt_consolidation                 23.81     CA   \n",
       "3         36.0  debt_consolidation                 14.30     KS   \n",
       "4         36.0         credit_card                 18.78     NJ   \n",
       "\n",
       "  Home_Ownership  Monthly_Income  FICO_Range  Open_CREDIT_Lines  \\\n",
       "0       MORTGAGE         6541.67       735.0               14.0   \n",
       "1       MORTGAGE         4583.33       715.0               12.0   \n",
       "2       MORTGAGE        11500.00       690.0               14.0   \n",
       "3       MORTGAGE         3833.33       695.0               10.0   \n",
       "4           RENT         3195.00       695.0               11.0   \n",
       "\n",
       "   Revolving_CREDIT_Balance  Inquiries_in_the_Last_6_Months  Employment_Length  \n",
       "0                   14272.0                             2.0                1.0  \n",
       "1                   11140.0                             1.0                2.0  \n",
       "2                   21977.0                             1.0                2.0  \n",
       "3                    9346.0                             0.0                5.0  \n",
       "4                   14469.0                             0.0                9.0  "
      ]
     },
     "execution_count": 468,
     "metadata": {},
     "output_type": "execute_result"
    }
   ],
   "source": [
    "data.head()"
   ]
  },
  {
   "cell_type": "code",
   "execution_count": 469,
   "id": "63290331",
   "metadata": {},
   "outputs": [
    {
     "data": {
      "text/plain": [
       "1"
      ]
     },
     "execution_count": 469,
     "metadata": {},
     "output_type": "execute_result"
    }
   ],
   "source": [
    "data.Amount_Requested.isna().sum()  "
   ]
  },
  {
   "cell_type": "code",
   "execution_count": 470,
   "id": "e20fdeb5",
   "metadata": {},
   "outputs": [
    {
     "data": {
      "text/plain": [
       "(2500, 15)"
      ]
     },
     "execution_count": 470,
     "metadata": {},
     "output_type": "execute_result"
    }
   ],
   "source": [
    "data.shape"
   ]
  },
  {
   "cell_type": "code",
   "execution_count": 471,
   "id": "be046618",
   "metadata": {},
   "outputs": [
    {
     "data": {
      "text/plain": [
       "Loan_id                            0\n",
       "Amount_Requested                   1\n",
       "Amount_Funded_By_Investors         1\n",
       "Interest_Rate                      2\n",
       "Loan_Length                        0\n",
       "Loan_Purpose                       0\n",
       "Debt_To_Income_Ratio               1\n",
       "States                             0\n",
       "Home_Ownership                     1\n",
       "Monthly_Income                     1\n",
       "FICO_Range                         2\n",
       "Open_CREDIT_Lines                  3\n",
       "Revolving_CREDIT_Balance           3\n",
       "Inquiries_in_the_Last_6_Months     3\n",
       "Employment_Length                 77\n",
       "dtype: int64"
      ]
     },
     "execution_count": 471,
     "metadata": {},
     "output_type": "execute_result"
    }
   ],
   "source": [
    "data.isna().sum()"
   ]
  },
  {
   "cell_type": "markdown",
   "id": "8b9bf8ff",
   "metadata": {},
   "source": [
    "**We have the maximum of 3% values missing in the Employment length variable.**\n",
    "\n",
    "**Creating a UDF which can automate the missing value treatment.**"
   ]
  },
  {
   "cell_type": "code",
   "execution_count": 472,
   "id": "2f4093d7",
   "metadata": {},
   "outputs": [
    {
     "data": {
      "text/plain": [
       "(2500, 15)"
      ]
     },
     "execution_count": 472,
     "metadata": {},
     "output_type": "execute_result"
    }
   ],
   "source": [
    "data.shape"
   ]
  },
  {
   "cell_type": "code",
   "execution_count": 473,
   "id": "30921a6e",
   "metadata": {},
   "outputs": [
    {
     "data": {
      "text/plain": [
       "Index(['Loan_id', 'Amount_Requested', 'Amount_Funded_By_Investors',\n",
       "       'Interest_Rate', 'Loan_Length', 'Loan_Purpose', 'Debt_To_Income_Ratio',\n",
       "       'States', 'Home_Ownership', 'Monthly_Income', 'FICO_Range',\n",
       "       'Open_CREDIT_Lines', 'Revolving_CREDIT_Balance',\n",
       "       'Inquiries_in_the_Last_6_Months', 'Employment_Length'],\n",
       "      dtype='object')"
      ]
     },
     "execution_count": 473,
     "metadata": {},
     "output_type": "execute_result"
    }
   ],
   "source": [
    "data.columns"
   ]
  },
  {
   "cell_type": "code",
   "execution_count": 474,
   "id": "b869b5f6",
   "metadata": {},
   "outputs": [],
   "source": [
    "def miss_value_treat(s):\n",
    "    if s.dtype == 'O':\n",
    "        s = s.fillna(s.mode())\n",
    "    else:\n",
    "        s = s.fillna(s.median())\n",
    "    return s\n",
    "    "
   ]
  },
  {
   "cell_type": "code",
   "execution_count": 475,
   "id": "3dd12ec5",
   "metadata": {},
   "outputs": [],
   "source": [
    "data = data.apply(miss_value_treat)"
   ]
  },
  {
   "cell_type": "code",
   "execution_count": 476,
   "id": "9f2a97c7",
   "metadata": {},
   "outputs": [
    {
     "data": {
      "text/plain": [
       "Loan_id                           0\n",
       "Amount_Requested                  0\n",
       "Amount_Funded_By_Investors        0\n",
       "Interest_Rate                     0\n",
       "Loan_Length                       0\n",
       "Loan_Purpose                      0\n",
       "Debt_To_Income_Ratio              0\n",
       "States                            0\n",
       "Home_Ownership                    1\n",
       "Monthly_Income                    0\n",
       "FICO_Range                        0\n",
       "Open_CREDIT_Lines                 0\n",
       "Revolving_CREDIT_Balance          0\n",
       "Inquiries_in_the_Last_6_Months    0\n",
       "Employment_Length                 0\n",
       "dtype: int64"
      ]
     },
     "execution_count": 476,
     "metadata": {},
     "output_type": "execute_result"
    }
   ],
   "source": [
    "data.isna().sum()"
   ]
  },
  {
   "cell_type": "code",
   "execution_count": 477,
   "id": "3c01ce33",
   "metadata": {},
   "outputs": [],
   "source": [
    "data['Amount_Requested'] = data.Amount_Requested.fillna(data['Amount_Requested'].median())"
   ]
  },
  {
   "cell_type": "code",
   "execution_count": 478,
   "id": "cac8caa1",
   "metadata": {},
   "outputs": [],
   "source": [
    "data['Amount_Funded_By_Investors'] = data.Amount_Funded_By_Investors.fillna(data['Amount_Funded_By_Investors'].median())"
   ]
  },
  {
   "cell_type": "code",
   "execution_count": 479,
   "id": "36413e0c",
   "metadata": {},
   "outputs": [
    {
     "data": {
      "text/plain": [
       "Loan_id                           0\n",
       "Amount_Requested                  0\n",
       "Amount_Funded_By_Investors        0\n",
       "Interest_Rate                     0\n",
       "Loan_Length                       0\n",
       "Loan_Purpose                      0\n",
       "Debt_To_Income_Ratio              0\n",
       "States                            0\n",
       "Home_Ownership                    1\n",
       "Monthly_Income                    0\n",
       "FICO_Range                        0\n",
       "Open_CREDIT_Lines                 0\n",
       "Revolving_CREDIT_Balance          0\n",
       "Inquiries_in_the_Last_6_Months    0\n",
       "Employment_Length                 0\n",
       "dtype: int64"
      ]
     },
     "execution_count": 479,
     "metadata": {},
     "output_type": "execute_result"
    }
   ],
   "source": [
    "data.isna().sum()"
   ]
  },
  {
   "cell_type": "code",
   "execution_count": 480,
   "id": "0870c059",
   "metadata": {},
   "outputs": [
    {
     "name": "stdout",
     "output_type": "stream",
     "text": [
      "<class 'pandas.core.frame.DataFrame'>\n",
      "RangeIndex: 2500 entries, 0 to 2499\n",
      "Data columns (total 15 columns):\n",
      " #   Column                          Non-Null Count  Dtype  \n",
      "---  ------                          --------------  -----  \n",
      " 0   Loan_id                         2500 non-null   int64  \n",
      " 1   Amount_Requested                2500 non-null   float64\n",
      " 2   Amount_Funded_By_Investors      2500 non-null   float64\n",
      " 3   Interest_Rate                   2500 non-null   float64\n",
      " 4   Loan_Length                     2500 non-null   float64\n",
      " 5   Loan_Purpose                    2500 non-null   object \n",
      " 6   Debt_To_Income_Ratio            2500 non-null   float64\n",
      " 7   States                          2500 non-null   object \n",
      " 8   Home_Ownership                  2499 non-null   object \n",
      " 9   Monthly_Income                  2500 non-null   float64\n",
      " 10  FICO_Range                      2500 non-null   float64\n",
      " 11  Open_CREDIT_Lines               2500 non-null   float64\n",
      " 12  Revolving_CREDIT_Balance        2500 non-null   float64\n",
      " 13  Inquiries_in_the_Last_6_Months  2500 non-null   float64\n",
      " 14  Employment_Length               2500 non-null   float64\n",
      "dtypes: float64(11), int64(1), object(3)\n",
      "memory usage: 293.1+ KB\n"
     ]
    }
   ],
   "source": [
    "data.info()"
   ]
  },
  {
   "cell_type": "code",
   "execution_count": 481,
   "id": "68593122",
   "metadata": {},
   "outputs": [
    {
     "data": {
      "text/plain": [
       "Index(['Loan_id', 'Amount_Requested', 'Amount_Funded_By_Investors',\n",
       "       'Interest_Rate', 'Loan_Length', 'Loan_Purpose', 'Debt_To_Income_Ratio',\n",
       "       'States', 'Home_Ownership', 'Monthly_Income', 'FICO_Range',\n",
       "       'Open_CREDIT_Lines', 'Revolving_CREDIT_Balance',\n",
       "       'Inquiries_in_the_Last_6_Months', 'Employment_Length'],\n",
       "      dtype='object')"
      ]
     },
     "execution_count": 481,
     "metadata": {},
     "output_type": "execute_result"
    }
   ],
   "source": [
    "data.columns"
   ]
  },
  {
   "cell_type": "markdown",
   "id": "31cc0044",
   "metadata": {},
   "source": [
    "## Separating the categorical Variables and Numerical variables into two different datasets for Data Preparations for Data Analysis."
   ]
  },
  {
   "cell_type": "code",
   "execution_count": 482,
   "id": "3a0076b2",
   "metadata": {},
   "outputs": [
    {
     "data": {
      "text/plain": [
       "['Loan_Purpose', 'States', 'Home_Ownership']"
      ]
     },
     "execution_count": 482,
     "metadata": {},
     "output_type": "execute_result"
    }
   ],
   "source": [
    "categorical = [var for var in data.columns if data[var].dtype == 'O']\n",
    "categorical"
   ]
  },
  {
   "cell_type": "code",
   "execution_count": 483,
   "id": "4843de15",
   "metadata": {},
   "outputs": [],
   "source": [
    "cat_data = data[categorical]"
   ]
  },
  {
   "cell_type": "code",
   "execution_count": 484,
   "id": "82ed0697",
   "metadata": {},
   "outputs": [
    {
     "name": "stderr",
     "output_type": "stream",
     "text": [
      "C:\\Users\\Gaya Gopan\\AppData\\Local\\Temp\\ipykernel_15404\\1913625421.py:1: SettingWithCopyWarning: \n",
      "A value is trying to be set on a copy of a slice from a DataFrame.\n",
      "Try using .loc[row_indexer,col_indexer] = value instead\n",
      "\n",
      "See the caveats in the documentation: https://pandas.pydata.org/pandas-docs/stable/user_guide/indexing.html#returning-a-view-versus-a-copy\n",
      "  cat_data['Loan_id'] = data['Loan_id']\n"
     ]
    }
   ],
   "source": [
    "cat_data['Loan_id'] = data['Loan_id']"
   ]
  },
  {
   "cell_type": "code",
   "execution_count": 485,
   "id": "d5037f26",
   "metadata": {},
   "outputs": [
    {
     "data": {
      "text/html": [
       "<div>\n",
       "<style scoped>\n",
       "    .dataframe tbody tr th:only-of-type {\n",
       "        vertical-align: middle;\n",
       "    }\n",
       "\n",
       "    .dataframe tbody tr th {\n",
       "        vertical-align: top;\n",
       "    }\n",
       "\n",
       "    .dataframe thead th {\n",
       "        text-align: right;\n",
       "    }\n",
       "</style>\n",
       "<table border=\"1\" class=\"dataframe\">\n",
       "  <thead>\n",
       "    <tr style=\"text-align: right;\">\n",
       "      <th></th>\n",
       "      <th>Loan_Purpose</th>\n",
       "      <th>States</th>\n",
       "      <th>Home_Ownership</th>\n",
       "      <th>Loan_id</th>\n",
       "    </tr>\n",
       "  </thead>\n",
       "  <tbody>\n",
       "    <tr>\n",
       "      <th>0</th>\n",
       "      <td>debt_consolidation</td>\n",
       "      <td>SC</td>\n",
       "      <td>MORTGAGE</td>\n",
       "      <td>1</td>\n",
       "    </tr>\n",
       "    <tr>\n",
       "      <th>1</th>\n",
       "      <td>debt_consolidation</td>\n",
       "      <td>TX</td>\n",
       "      <td>MORTGAGE</td>\n",
       "      <td>2</td>\n",
       "    </tr>\n",
       "    <tr>\n",
       "      <th>2</th>\n",
       "      <td>debt_consolidation</td>\n",
       "      <td>CA</td>\n",
       "      <td>MORTGAGE</td>\n",
       "      <td>3</td>\n",
       "    </tr>\n",
       "    <tr>\n",
       "      <th>3</th>\n",
       "      <td>debt_consolidation</td>\n",
       "      <td>KS</td>\n",
       "      <td>MORTGAGE</td>\n",
       "      <td>4</td>\n",
       "    </tr>\n",
       "    <tr>\n",
       "      <th>4</th>\n",
       "      <td>credit_card</td>\n",
       "      <td>NJ</td>\n",
       "      <td>RENT</td>\n",
       "      <td>5</td>\n",
       "    </tr>\n",
       "  </tbody>\n",
       "</table>\n",
       "</div>"
      ],
      "text/plain": [
       "         Loan_Purpose States Home_Ownership  Loan_id\n",
       "0  debt_consolidation     SC       MORTGAGE        1\n",
       "1  debt_consolidation     TX       MORTGAGE        2\n",
       "2  debt_consolidation     CA       MORTGAGE        3\n",
       "3  debt_consolidation     KS       MORTGAGE        4\n",
       "4         credit_card     NJ           RENT        5"
      ]
     },
     "execution_count": 485,
     "metadata": {},
     "output_type": "execute_result"
    }
   ],
   "source": [
    "cat_data.head()"
   ]
  },
  {
   "cell_type": "code",
   "execution_count": 486,
   "id": "b42d200a",
   "metadata": {},
   "outputs": [
    {
     "data": {
      "text/plain": [
       "(2500, 4)"
      ]
     },
     "execution_count": 486,
     "metadata": {},
     "output_type": "execute_result"
    }
   ],
   "source": [
    "cat_data.shape"
   ]
  },
  {
   "cell_type": "code",
   "execution_count": 487,
   "id": "172fa6a2",
   "metadata": {},
   "outputs": [],
   "source": [
    "numerical = [var for var in data.columns if data[var].dtype != 'O']"
   ]
  },
  {
   "cell_type": "code",
   "execution_count": 488,
   "id": "ca0d6f2f",
   "metadata": {},
   "outputs": [
    {
     "data": {
      "text/html": [
       "<div>\n",
       "<style scoped>\n",
       "    .dataframe tbody tr th:only-of-type {\n",
       "        vertical-align: middle;\n",
       "    }\n",
       "\n",
       "    .dataframe tbody tr th {\n",
       "        vertical-align: top;\n",
       "    }\n",
       "\n",
       "    .dataframe thead th {\n",
       "        text-align: right;\n",
       "    }\n",
       "</style>\n",
       "<table border=\"1\" class=\"dataframe\">\n",
       "  <thead>\n",
       "    <tr style=\"text-align: right;\">\n",
       "      <th></th>\n",
       "      <th>Loan_id</th>\n",
       "      <th>Amount_Requested</th>\n",
       "      <th>Amount_Funded_By_Investors</th>\n",
       "      <th>Interest_Rate</th>\n",
       "      <th>Loan_Length</th>\n",
       "      <th>Debt_To_Income_Ratio</th>\n",
       "      <th>Monthly_Income</th>\n",
       "      <th>FICO_Range</th>\n",
       "      <th>Open_CREDIT_Lines</th>\n",
       "      <th>Revolving_CREDIT_Balance</th>\n",
       "      <th>Inquiries_in_the_Last_6_Months</th>\n",
       "      <th>Employment_Length</th>\n",
       "    </tr>\n",
       "  </thead>\n",
       "  <tbody>\n",
       "    <tr>\n",
       "      <th>0</th>\n",
       "      <td>1</td>\n",
       "      <td>20000.0</td>\n",
       "      <td>20000.0</td>\n",
       "      <td>8.90</td>\n",
       "      <td>36.0</td>\n",
       "      <td>14.90</td>\n",
       "      <td>6541.67</td>\n",
       "      <td>735.0</td>\n",
       "      <td>14.0</td>\n",
       "      <td>14272.0</td>\n",
       "      <td>2.0</td>\n",
       "      <td>1.0</td>\n",
       "    </tr>\n",
       "    <tr>\n",
       "      <th>1</th>\n",
       "      <td>2</td>\n",
       "      <td>19200.0</td>\n",
       "      <td>19200.0</td>\n",
       "      <td>12.12</td>\n",
       "      <td>36.0</td>\n",
       "      <td>28.36</td>\n",
       "      <td>4583.33</td>\n",
       "      <td>715.0</td>\n",
       "      <td>12.0</td>\n",
       "      <td>11140.0</td>\n",
       "      <td>1.0</td>\n",
       "      <td>2.0</td>\n",
       "    </tr>\n",
       "    <tr>\n",
       "      <th>2</th>\n",
       "      <td>3</td>\n",
       "      <td>35000.0</td>\n",
       "      <td>35000.0</td>\n",
       "      <td>21.98</td>\n",
       "      <td>60.0</td>\n",
       "      <td>23.81</td>\n",
       "      <td>11500.00</td>\n",
       "      <td>690.0</td>\n",
       "      <td>14.0</td>\n",
       "      <td>21977.0</td>\n",
       "      <td>1.0</td>\n",
       "      <td>2.0</td>\n",
       "    </tr>\n",
       "    <tr>\n",
       "      <th>3</th>\n",
       "      <td>4</td>\n",
       "      <td>10000.0</td>\n",
       "      <td>9975.0</td>\n",
       "      <td>9.99</td>\n",
       "      <td>36.0</td>\n",
       "      <td>14.30</td>\n",
       "      <td>3833.33</td>\n",
       "      <td>695.0</td>\n",
       "      <td>10.0</td>\n",
       "      <td>9346.0</td>\n",
       "      <td>0.0</td>\n",
       "      <td>5.0</td>\n",
       "    </tr>\n",
       "    <tr>\n",
       "      <th>4</th>\n",
       "      <td>5</td>\n",
       "      <td>12000.0</td>\n",
       "      <td>12000.0</td>\n",
       "      <td>11.71</td>\n",
       "      <td>36.0</td>\n",
       "      <td>18.78</td>\n",
       "      <td>3195.00</td>\n",
       "      <td>695.0</td>\n",
       "      <td>11.0</td>\n",
       "      <td>14469.0</td>\n",
       "      <td>0.0</td>\n",
       "      <td>9.0</td>\n",
       "    </tr>\n",
       "  </tbody>\n",
       "</table>\n",
       "</div>"
      ],
      "text/plain": [
       "   Loan_id  Amount_Requested  Amount_Funded_By_Investors  Interest_Rate  \\\n",
       "0        1           20000.0                     20000.0           8.90   \n",
       "1        2           19200.0                     19200.0          12.12   \n",
       "2        3           35000.0                     35000.0          21.98   \n",
       "3        4           10000.0                      9975.0           9.99   \n",
       "4        5           12000.0                     12000.0          11.71   \n",
       "\n",
       "   Loan_Length  Debt_To_Income_Ratio  Monthly_Income  FICO_Range  \\\n",
       "0         36.0                 14.90         6541.67       735.0   \n",
       "1         36.0                 28.36         4583.33       715.0   \n",
       "2         60.0                 23.81        11500.00       690.0   \n",
       "3         36.0                 14.30         3833.33       695.0   \n",
       "4         36.0                 18.78         3195.00       695.0   \n",
       "\n",
       "   Open_CREDIT_Lines  Revolving_CREDIT_Balance  \\\n",
       "0               14.0                   14272.0   \n",
       "1               12.0                   11140.0   \n",
       "2               14.0                   21977.0   \n",
       "3               10.0                    9346.0   \n",
       "4               11.0                   14469.0   \n",
       "\n",
       "   Inquiries_in_the_Last_6_Months  Employment_Length  \n",
       "0                             2.0                1.0  \n",
       "1                             1.0                2.0  \n",
       "2                             1.0                2.0  \n",
       "3                             0.0                5.0  \n",
       "4                             0.0                9.0  "
      ]
     },
     "execution_count": 488,
     "metadata": {},
     "output_type": "execute_result"
    }
   ],
   "source": [
    "num_data = data[numerical]\n",
    "num_data.head()"
   ]
  },
  {
   "cell_type": "markdown",
   "id": "c77ad970",
   "metadata": {},
   "source": [
    "## Filling missing values in Numerical data with the Median values."
   ]
  },
  {
   "cell_type": "code",
   "execution_count": 489,
   "id": "7eb1793f",
   "metadata": {},
   "outputs": [
    {
     "name": "stderr",
     "output_type": "stream",
     "text": [
      "C:\\Users\\Gaya Gopan\\AppData\\Local\\Temp\\ipykernel_15404\\3523660906.py:2: SettingWithCopyWarning: \n",
      "A value is trying to be set on a copy of a slice from a DataFrame.\n",
      "Try using .loc[row_indexer,col_indexer] = value instead\n",
      "\n",
      "See the caveats in the documentation: https://pandas.pydata.org/pandas-docs/stable/user_guide/indexing.html#returning-a-view-versus-a-copy\n",
      "  num_data[i] = num_data[i].fillna(num_data[i].median())\n"
     ]
    }
   ],
   "source": [
    "for i in num_data.columns:\n",
    "        num_data[i] = num_data[i].fillna(num_data[i].median())"
   ]
  },
  {
   "cell_type": "code",
   "execution_count": 490,
   "id": "6920535c",
   "metadata": {},
   "outputs": [
    {
     "data": {
      "text/plain": [
       "Loan_id                           0\n",
       "Amount_Requested                  0\n",
       "Amount_Funded_By_Investors        0\n",
       "Interest_Rate                     0\n",
       "Loan_Length                       0\n",
       "Debt_To_Income_Ratio              0\n",
       "Monthly_Income                    0\n",
       "FICO_Range                        0\n",
       "Open_CREDIT_Lines                 0\n",
       "Revolving_CREDIT_Balance          0\n",
       "Inquiries_in_the_Last_6_Months    0\n",
       "Employment_Length                 0\n",
       "dtype: int64"
      ]
     },
     "execution_count": 490,
     "metadata": {},
     "output_type": "execute_result"
    }
   ],
   "source": [
    "num_data.isna().sum()"
   ]
  },
  {
   "cell_type": "markdown",
   "id": "aa9a8f9b",
   "metadata": {},
   "source": [
    "## Filling missing values in Categorical data with the Mode values."
   ]
  },
  {
   "cell_type": "code",
   "execution_count": 491,
   "id": "9c78112c",
   "metadata": {},
   "outputs": [
    {
     "name": "stderr",
     "output_type": "stream",
     "text": [
      "C:\\Users\\Gaya Gopan\\AppData\\Local\\Temp\\ipykernel_15404\\2803963677.py:2: SettingWithCopyWarning: \n",
      "A value is trying to be set on a copy of a slice from a DataFrame.\n",
      "Try using .loc[row_indexer,col_indexer] = value instead\n",
      "\n",
      "See the caveats in the documentation: https://pandas.pydata.org/pandas-docs/stable/user_guide/indexing.html#returning-a-view-versus-a-copy\n",
      "  cat_data[i] = cat_data[i].fillna(cat_data[i].mode())\n"
     ]
    }
   ],
   "source": [
    "for i in cat_data.columns:\n",
    "        cat_data[i] = cat_data[i].fillna(cat_data[i].mode())"
   ]
  },
  {
   "cell_type": "code",
   "execution_count": 492,
   "id": "97c402be",
   "metadata": {},
   "outputs": [
    {
     "data": {
      "text/plain": [
       "Loan_Purpose      0\n",
       "States            0\n",
       "Home_Ownership    1\n",
       "Loan_id           0\n",
       "dtype: int64"
      ]
     },
     "execution_count": 492,
     "metadata": {},
     "output_type": "execute_result"
    }
   ],
   "source": [
    "cat_data.isna().sum()"
   ]
  },
  {
   "cell_type": "code",
   "execution_count": 493,
   "id": "8f3e821d",
   "metadata": {},
   "outputs": [
    {
     "data": {
      "text/plain": [
       "2499"
      ]
     },
     "execution_count": 493,
     "metadata": {},
     "output_type": "execute_result"
    }
   ],
   "source": [
    "cat_data.Home_Ownership.count()"
   ]
  },
  {
   "cell_type": "code",
   "execution_count": 494,
   "id": "ed9fb0d1",
   "metadata": {},
   "outputs": [
    {
     "data": {
      "text/plain": [
       "Home_Ownership\n",
       "MORTGAGE    1147\n",
       "RENT        1146\n",
       "OWN          200\n",
       "OTHER          5\n",
       "NONE           1\n",
       "Name: count, dtype: int64"
      ]
     },
     "execution_count": 494,
     "metadata": {},
     "output_type": "execute_result"
    }
   ],
   "source": [
    "cat_data.Home_Ownership.value_counts()"
   ]
  },
  {
   "cell_type": "code",
   "execution_count": 495,
   "id": "46557269",
   "metadata": {},
   "outputs": [
    {
     "data": {
      "text/html": [
       "<div>\n",
       "<style scoped>\n",
       "    .dataframe tbody tr th:only-of-type {\n",
       "        vertical-align: middle;\n",
       "    }\n",
       "\n",
       "    .dataframe tbody tr th {\n",
       "        vertical-align: top;\n",
       "    }\n",
       "\n",
       "    .dataframe thead th {\n",
       "        text-align: right;\n",
       "    }\n",
       "</style>\n",
       "<table border=\"1\" class=\"dataframe\">\n",
       "  <thead>\n",
       "    <tr style=\"text-align: right;\">\n",
       "      <th></th>\n",
       "      <th>Loan_Purpose</th>\n",
       "      <th>States</th>\n",
       "      <th>Home_Ownership</th>\n",
       "      <th>Loan_id</th>\n",
       "    </tr>\n",
       "  </thead>\n",
       "  <tbody>\n",
       "  </tbody>\n",
       "</table>\n",
       "</div>"
      ],
      "text/plain": [
       "Empty DataFrame\n",
       "Columns: [Loan_Purpose, States, Home_Ownership, Loan_id]\n",
       "Index: []"
      ]
     },
     "execution_count": 495,
     "metadata": {},
     "output_type": "execute_result"
    }
   ],
   "source": [
    "cat_data.loc[cat_data['Home_Ownership'] == None]"
   ]
  },
  {
   "cell_type": "code",
   "execution_count": 496,
   "id": "ce4c049c",
   "metadata": {},
   "outputs": [
    {
     "data": {
      "text/plain": [
       "2492    True\n",
       "Name: Home_Ownership, dtype: bool"
      ]
     },
     "execution_count": 496,
     "metadata": {},
     "output_type": "execute_result"
    }
   ],
   "source": [
    "s = pd.Series(cat_data.Home_Ownership.isna())\n",
    "s[s == True]"
   ]
  },
  {
   "cell_type": "code",
   "execution_count": 497,
   "id": "25c80449",
   "metadata": {},
   "outputs": [
    {
     "data": {
      "text/plain": [
       "Loan_Purpose      debt_consolidation\n",
       "States                            NJ\n",
       "Home_Ownership                   NaN\n",
       "Loan_id                         2493\n",
       "Name: 2492, dtype: object"
      ]
     },
     "execution_count": 497,
     "metadata": {},
     "output_type": "execute_result"
    }
   ],
   "source": [
    "cat_data.loc[2492,]"
   ]
  },
  {
   "cell_type": "code",
   "execution_count": 498,
   "id": "769d69c2",
   "metadata": {},
   "outputs": [
    {
     "name": "stderr",
     "output_type": "stream",
     "text": [
      "C:\\Users\\Gaya Gopan\\AppData\\Local\\Temp\\ipykernel_15404\\2801747167.py:1: SettingWithCopyWarning: \n",
      "A value is trying to be set on a copy of a slice from a DataFrame.\n",
      "Try using .loc[row_indexer,col_indexer] = value instead\n",
      "\n",
      "See the caveats in the documentation: https://pandas.pydata.org/pandas-docs/stable/user_guide/indexing.html#returning-a-view-versus-a-copy\n",
      "  cat_data['Home_Ownership']  = cat_data['Home_Ownership'].replace(\"NaN\",None)\n"
     ]
    }
   ],
   "source": [
    "cat_data['Home_Ownership']  = cat_data['Home_Ownership'].replace(\"NaN\",None)"
   ]
  },
  {
   "cell_type": "code",
   "execution_count": 499,
   "id": "b17197e9",
   "metadata": {},
   "outputs": [
    {
     "data": {
      "text/plain": [
       "Home_Ownership\n",
       "MORTGAGE    1147\n",
       "RENT        1146\n",
       "OWN          200\n",
       "OTHER          5\n",
       "NONE           1\n",
       "Name: count, dtype: int64"
      ]
     },
     "execution_count": 499,
     "metadata": {},
     "output_type": "execute_result"
    }
   ],
   "source": [
    "cat_data.Home_Ownership.value_counts()"
   ]
  },
  {
   "cell_type": "code",
   "execution_count": 500,
   "id": "c82843ae",
   "metadata": {},
   "outputs": [
    {
     "data": {
      "text/plain": [
       "Loan_Purpose      0\n",
       "States            0\n",
       "Home_Ownership    1\n",
       "Loan_id           0\n",
       "dtype: int64"
      ]
     },
     "execution_count": 500,
     "metadata": {},
     "output_type": "execute_result"
    }
   ],
   "source": [
    "cat_data.isna().sum()"
   ]
  },
  {
   "cell_type": "code",
   "execution_count": 501,
   "id": "ea7a8c5e",
   "metadata": {},
   "outputs": [
    {
     "data": {
      "text/html": [
       "<div>\n",
       "<style scoped>\n",
       "    .dataframe tbody tr th:only-of-type {\n",
       "        vertical-align: middle;\n",
       "    }\n",
       "\n",
       "    .dataframe tbody tr th {\n",
       "        vertical-align: top;\n",
       "    }\n",
       "\n",
       "    .dataframe thead th {\n",
       "        text-align: right;\n",
       "    }\n",
       "</style>\n",
       "<table border=\"1\" class=\"dataframe\">\n",
       "  <thead>\n",
       "    <tr style=\"text-align: right;\">\n",
       "      <th></th>\n",
       "      <th>Loan_Purpose</th>\n",
       "      <th>States</th>\n",
       "      <th>Home_Ownership</th>\n",
       "      <th>Loan_id</th>\n",
       "    </tr>\n",
       "  </thead>\n",
       "  <tbody>\n",
       "    <tr>\n",
       "      <th>2490</th>\n",
       "      <td>debt_consolidation</td>\n",
       "      <td>CA</td>\n",
       "      <td>RENT</td>\n",
       "      <td>2491</td>\n",
       "    </tr>\n",
       "    <tr>\n",
       "      <th>2491</th>\n",
       "      <td>debt_consolidation</td>\n",
       "      <td>CA</td>\n",
       "      <td>RENT</td>\n",
       "      <td>2492</td>\n",
       "    </tr>\n",
       "    <tr>\n",
       "      <th>2492</th>\n",
       "      <td>debt_consolidation</td>\n",
       "      <td>NJ</td>\n",
       "      <td>NaN</td>\n",
       "      <td>2493</td>\n",
       "    </tr>\n",
       "    <tr>\n",
       "      <th>2493</th>\n",
       "      <td>other</td>\n",
       "      <td>IL</td>\n",
       "      <td>MORTGAGE</td>\n",
       "      <td>2494</td>\n",
       "    </tr>\n",
       "    <tr>\n",
       "      <th>2494</th>\n",
       "      <td>debt_consolidation</td>\n",
       "      <td>WA</td>\n",
       "      <td>MORTGAGE</td>\n",
       "      <td>2495</td>\n",
       "    </tr>\n",
       "    <tr>\n",
       "      <th>2495</th>\n",
       "      <td>debt_consolidation</td>\n",
       "      <td>NY</td>\n",
       "      <td>MORTGAGE</td>\n",
       "      <td>2496</td>\n",
       "    </tr>\n",
       "    <tr>\n",
       "      <th>2496</th>\n",
       "      <td>home_improvement</td>\n",
       "      <td>MD</td>\n",
       "      <td>OWN</td>\n",
       "      <td>2497</td>\n",
       "    </tr>\n",
       "    <tr>\n",
       "      <th>2497</th>\n",
       "      <td>debt_consolidation</td>\n",
       "      <td>PA</td>\n",
       "      <td>MORTGAGE</td>\n",
       "      <td>2498</td>\n",
       "    </tr>\n",
       "    <tr>\n",
       "      <th>2498</th>\n",
       "      <td>major_purchase</td>\n",
       "      <td>NJ</td>\n",
       "      <td>RENT</td>\n",
       "      <td>2499</td>\n",
       "    </tr>\n",
       "    <tr>\n",
       "      <th>2499</th>\n",
       "      <td>debt_consolidation</td>\n",
       "      <td>NY</td>\n",
       "      <td>RENT</td>\n",
       "      <td>2500</td>\n",
       "    </tr>\n",
       "  </tbody>\n",
       "</table>\n",
       "</div>"
      ],
      "text/plain": [
       "            Loan_Purpose States Home_Ownership  Loan_id\n",
       "2490  debt_consolidation     CA           RENT     2491\n",
       "2491  debt_consolidation     CA           RENT     2492\n",
       "2492  debt_consolidation     NJ            NaN     2493\n",
       "2493               other     IL       MORTGAGE     2494\n",
       "2494  debt_consolidation     WA       MORTGAGE     2495\n",
       "2495  debt_consolidation     NY       MORTGAGE     2496\n",
       "2496    home_improvement     MD            OWN     2497\n",
       "2497  debt_consolidation     PA       MORTGAGE     2498\n",
       "2498      major_purchase     NJ           RENT     2499\n",
       "2499  debt_consolidation     NY           RENT     2500"
      ]
     },
     "execution_count": 501,
     "metadata": {},
     "output_type": "execute_result"
    }
   ],
   "source": [
    "cat_data.tail(10)"
   ]
  },
  {
   "cell_type": "code",
   "execution_count": 502,
   "id": "bd8beaa1",
   "metadata": {},
   "outputs": [],
   "source": [
    "cat_data = cat_data.drop(2492)"
   ]
  },
  {
   "cell_type": "code",
   "execution_count": 503,
   "id": "a504b47f",
   "metadata": {},
   "outputs": [
    {
     "data": {
      "text/html": [
       "<div>\n",
       "<style scoped>\n",
       "    .dataframe tbody tr th:only-of-type {\n",
       "        vertical-align: middle;\n",
       "    }\n",
       "\n",
       "    .dataframe tbody tr th {\n",
       "        vertical-align: top;\n",
       "    }\n",
       "\n",
       "    .dataframe thead th {\n",
       "        text-align: right;\n",
       "    }\n",
       "</style>\n",
       "<table border=\"1\" class=\"dataframe\">\n",
       "  <thead>\n",
       "    <tr style=\"text-align: right;\">\n",
       "      <th></th>\n",
       "      <th>Loan_Purpose</th>\n",
       "      <th>States</th>\n",
       "      <th>Home_Ownership</th>\n",
       "      <th>Loan_id</th>\n",
       "    </tr>\n",
       "  </thead>\n",
       "  <tbody>\n",
       "    <tr>\n",
       "      <th>2489</th>\n",
       "      <td>debt_consolidation</td>\n",
       "      <td>NY</td>\n",
       "      <td>RENT</td>\n",
       "      <td>2490</td>\n",
       "    </tr>\n",
       "    <tr>\n",
       "      <th>2490</th>\n",
       "      <td>debt_consolidation</td>\n",
       "      <td>CA</td>\n",
       "      <td>RENT</td>\n",
       "      <td>2491</td>\n",
       "    </tr>\n",
       "    <tr>\n",
       "      <th>2491</th>\n",
       "      <td>debt_consolidation</td>\n",
       "      <td>CA</td>\n",
       "      <td>RENT</td>\n",
       "      <td>2492</td>\n",
       "    </tr>\n",
       "    <tr>\n",
       "      <th>2493</th>\n",
       "      <td>other</td>\n",
       "      <td>IL</td>\n",
       "      <td>MORTGAGE</td>\n",
       "      <td>2494</td>\n",
       "    </tr>\n",
       "    <tr>\n",
       "      <th>2494</th>\n",
       "      <td>debt_consolidation</td>\n",
       "      <td>WA</td>\n",
       "      <td>MORTGAGE</td>\n",
       "      <td>2495</td>\n",
       "    </tr>\n",
       "    <tr>\n",
       "      <th>2495</th>\n",
       "      <td>debt_consolidation</td>\n",
       "      <td>NY</td>\n",
       "      <td>MORTGAGE</td>\n",
       "      <td>2496</td>\n",
       "    </tr>\n",
       "    <tr>\n",
       "      <th>2496</th>\n",
       "      <td>home_improvement</td>\n",
       "      <td>MD</td>\n",
       "      <td>OWN</td>\n",
       "      <td>2497</td>\n",
       "    </tr>\n",
       "    <tr>\n",
       "      <th>2497</th>\n",
       "      <td>debt_consolidation</td>\n",
       "      <td>PA</td>\n",
       "      <td>MORTGAGE</td>\n",
       "      <td>2498</td>\n",
       "    </tr>\n",
       "    <tr>\n",
       "      <th>2498</th>\n",
       "      <td>major_purchase</td>\n",
       "      <td>NJ</td>\n",
       "      <td>RENT</td>\n",
       "      <td>2499</td>\n",
       "    </tr>\n",
       "    <tr>\n",
       "      <th>2499</th>\n",
       "      <td>debt_consolidation</td>\n",
       "      <td>NY</td>\n",
       "      <td>RENT</td>\n",
       "      <td>2500</td>\n",
       "    </tr>\n",
       "  </tbody>\n",
       "</table>\n",
       "</div>"
      ],
      "text/plain": [
       "            Loan_Purpose States Home_Ownership  Loan_id\n",
       "2489  debt_consolidation     NY           RENT     2490\n",
       "2490  debt_consolidation     CA           RENT     2491\n",
       "2491  debt_consolidation     CA           RENT     2492\n",
       "2493               other     IL       MORTGAGE     2494\n",
       "2494  debt_consolidation     WA       MORTGAGE     2495\n",
       "2495  debt_consolidation     NY       MORTGAGE     2496\n",
       "2496    home_improvement     MD            OWN     2497\n",
       "2497  debt_consolidation     PA       MORTGAGE     2498\n",
       "2498      major_purchase     NJ           RENT     2499\n",
       "2499  debt_consolidation     NY           RENT     2500"
      ]
     },
     "execution_count": 503,
     "metadata": {},
     "output_type": "execute_result"
    }
   ],
   "source": [
    "cat_data.tail(10)"
   ]
  },
  {
   "cell_type": "code",
   "execution_count": 504,
   "id": "6b7a6f5d",
   "metadata": {},
   "outputs": [
    {
     "data": {
      "text/plain": [
       "Loan_Purpose      0\n",
       "States            0\n",
       "Home_Ownership    0\n",
       "Loan_id           0\n",
       "dtype: int64"
      ]
     },
     "execution_count": 504,
     "metadata": {},
     "output_type": "execute_result"
    }
   ],
   "source": [
    "cat_data.isna().sum()"
   ]
  },
  {
   "cell_type": "code",
   "execution_count": 505,
   "id": "5d450de8",
   "metadata": {},
   "outputs": [
    {
     "data": {
      "text/plain": [
       "(2499, 4)"
      ]
     },
     "execution_count": 505,
     "metadata": {},
     "output_type": "execute_result"
    }
   ],
   "source": [
    "cat_data.shape"
   ]
  },
  {
   "cell_type": "code",
   "execution_count": 506,
   "id": "8eeb9558",
   "metadata": {},
   "outputs": [],
   "source": [
    "num_data = num_data.drop(2492)"
   ]
  },
  {
   "cell_type": "code",
   "execution_count": 507,
   "id": "e6692bb4",
   "metadata": {},
   "outputs": [
    {
     "data": {
      "text/plain": [
       "(2499, 12)"
      ]
     },
     "execution_count": 507,
     "metadata": {},
     "output_type": "execute_result"
    }
   ],
   "source": [
    "num_data.shape"
   ]
  },
  {
   "cell_type": "code",
   "execution_count": 508,
   "id": "d718226c",
   "metadata": {},
   "outputs": [],
   "source": [
    "# fOR MERGING THE TWO DATASETS , There should be a common column."
   ]
  },
  {
   "cell_type": "code",
   "execution_count": 509,
   "id": "aefa2f86",
   "metadata": {},
   "outputs": [
    {
     "data": {
      "text/html": [
       "<div>\n",
       "<style scoped>\n",
       "    .dataframe tbody tr th:only-of-type {\n",
       "        vertical-align: middle;\n",
       "    }\n",
       "\n",
       "    .dataframe tbody tr th {\n",
       "        vertical-align: top;\n",
       "    }\n",
       "\n",
       "    .dataframe thead th {\n",
       "        text-align: right;\n",
       "    }\n",
       "</style>\n",
       "<table border=\"1\" class=\"dataframe\">\n",
       "  <thead>\n",
       "    <tr style=\"text-align: right;\">\n",
       "      <th></th>\n",
       "      <th>Loan_Purpose</th>\n",
       "      <th>States</th>\n",
       "      <th>Home_Ownership</th>\n",
       "      <th>Loan_id</th>\n",
       "    </tr>\n",
       "  </thead>\n",
       "  <tbody>\n",
       "    <tr>\n",
       "      <th>0</th>\n",
       "      <td>debt_consolidation</td>\n",
       "      <td>SC</td>\n",
       "      <td>MORTGAGE</td>\n",
       "      <td>1</td>\n",
       "    </tr>\n",
       "    <tr>\n",
       "      <th>1</th>\n",
       "      <td>debt_consolidation</td>\n",
       "      <td>TX</td>\n",
       "      <td>MORTGAGE</td>\n",
       "      <td>2</td>\n",
       "    </tr>\n",
       "  </tbody>\n",
       "</table>\n",
       "</div>"
      ],
      "text/plain": [
       "         Loan_Purpose States Home_Ownership  Loan_id\n",
       "0  debt_consolidation     SC       MORTGAGE        1\n",
       "1  debt_consolidation     TX       MORTGAGE        2"
      ]
     },
     "execution_count": 509,
     "metadata": {},
     "output_type": "execute_result"
    }
   ],
   "source": [
    "cat_data.head(2)"
   ]
  },
  {
   "cell_type": "code",
   "execution_count": 510,
   "id": "61eddbe8",
   "metadata": {},
   "outputs": [
    {
     "data": {
      "text/html": [
       "<div>\n",
       "<style scoped>\n",
       "    .dataframe tbody tr th:only-of-type {\n",
       "        vertical-align: middle;\n",
       "    }\n",
       "\n",
       "    .dataframe tbody tr th {\n",
       "        vertical-align: top;\n",
       "    }\n",
       "\n",
       "    .dataframe thead th {\n",
       "        text-align: right;\n",
       "    }\n",
       "</style>\n",
       "<table border=\"1\" class=\"dataframe\">\n",
       "  <thead>\n",
       "    <tr style=\"text-align: right;\">\n",
       "      <th></th>\n",
       "      <th>Loan_id</th>\n",
       "      <th>Amount_Requested</th>\n",
       "      <th>Amount_Funded_By_Investors</th>\n",
       "      <th>Interest_Rate</th>\n",
       "      <th>Loan_Length</th>\n",
       "      <th>Debt_To_Income_Ratio</th>\n",
       "      <th>Monthly_Income</th>\n",
       "      <th>FICO_Range</th>\n",
       "      <th>Open_CREDIT_Lines</th>\n",
       "      <th>Revolving_CREDIT_Balance</th>\n",
       "      <th>Inquiries_in_the_Last_6_Months</th>\n",
       "      <th>Employment_Length</th>\n",
       "    </tr>\n",
       "  </thead>\n",
       "  <tbody>\n",
       "    <tr>\n",
       "      <th>0</th>\n",
       "      <td>1</td>\n",
       "      <td>20000.0</td>\n",
       "      <td>20000.0</td>\n",
       "      <td>8.90</td>\n",
       "      <td>36.0</td>\n",
       "      <td>14.90</td>\n",
       "      <td>6541.67</td>\n",
       "      <td>735.0</td>\n",
       "      <td>14.0</td>\n",
       "      <td>14272.0</td>\n",
       "      <td>2.0</td>\n",
       "      <td>1.0</td>\n",
       "    </tr>\n",
       "    <tr>\n",
       "      <th>1</th>\n",
       "      <td>2</td>\n",
       "      <td>19200.0</td>\n",
       "      <td>19200.0</td>\n",
       "      <td>12.12</td>\n",
       "      <td>36.0</td>\n",
       "      <td>28.36</td>\n",
       "      <td>4583.33</td>\n",
       "      <td>715.0</td>\n",
       "      <td>12.0</td>\n",
       "      <td>11140.0</td>\n",
       "      <td>1.0</td>\n",
       "      <td>2.0</td>\n",
       "    </tr>\n",
       "  </tbody>\n",
       "</table>\n",
       "</div>"
      ],
      "text/plain": [
       "   Loan_id  Amount_Requested  Amount_Funded_By_Investors  Interest_Rate  \\\n",
       "0        1           20000.0                     20000.0           8.90   \n",
       "1        2           19200.0                     19200.0          12.12   \n",
       "\n",
       "   Loan_Length  Debt_To_Income_Ratio  Monthly_Income  FICO_Range  \\\n",
       "0         36.0                 14.90         6541.67       735.0   \n",
       "1         36.0                 28.36         4583.33       715.0   \n",
       "\n",
       "   Open_CREDIT_Lines  Revolving_CREDIT_Balance  \\\n",
       "0               14.0                   14272.0   \n",
       "1               12.0                   11140.0   \n",
       "\n",
       "   Inquiries_in_the_Last_6_Months  Employment_Length  \n",
       "0                             2.0                1.0  \n",
       "1                             1.0                2.0  "
      ]
     },
     "execution_count": 510,
     "metadata": {},
     "output_type": "execute_result"
    }
   ],
   "source": [
    "num_data.head(2)"
   ]
  },
  {
   "cell_type": "markdown",
   "id": "a18ae399",
   "metadata": {},
   "source": [
    "## Outlier Treatment"
   ]
  },
  {
   "cell_type": "code",
   "execution_count": 511,
   "id": "fe57ba03",
   "metadata": {},
   "outputs": [
    {
     "data": {
      "text/html": [
       "<div>\n",
       "<style scoped>\n",
       "    .dataframe tbody tr th:only-of-type {\n",
       "        vertical-align: middle;\n",
       "    }\n",
       "\n",
       "    .dataframe tbody tr th {\n",
       "        vertical-align: top;\n",
       "    }\n",
       "\n",
       "    .dataframe thead th {\n",
       "        text-align: right;\n",
       "    }\n",
       "</style>\n",
       "<table border=\"1\" class=\"dataframe\">\n",
       "  <thead>\n",
       "    <tr style=\"text-align: right;\">\n",
       "      <th></th>\n",
       "      <th>Loan_id</th>\n",
       "      <th>Amount_Requested</th>\n",
       "      <th>Amount_Funded_By_Investors</th>\n",
       "      <th>Interest_Rate</th>\n",
       "      <th>Loan_Length</th>\n",
       "      <th>Debt_To_Income_Ratio</th>\n",
       "      <th>Monthly_Income</th>\n",
       "      <th>FICO_Range</th>\n",
       "      <th>Open_CREDIT_Lines</th>\n",
       "      <th>Revolving_CREDIT_Balance</th>\n",
       "      <th>Inquiries_in_the_Last_6_Months</th>\n",
       "      <th>Employment_Length</th>\n",
       "    </tr>\n",
       "  </thead>\n",
       "  <tbody>\n",
       "    <tr>\n",
       "      <th>0</th>\n",
       "      <td>1</td>\n",
       "      <td>20000.0</td>\n",
       "      <td>20000.0</td>\n",
       "      <td>8.90</td>\n",
       "      <td>36.0</td>\n",
       "      <td>14.90</td>\n",
       "      <td>6541.67</td>\n",
       "      <td>735.0</td>\n",
       "      <td>14.0</td>\n",
       "      <td>14272.0</td>\n",
       "      <td>2.0</td>\n",
       "      <td>1.0</td>\n",
       "    </tr>\n",
       "    <tr>\n",
       "      <th>1</th>\n",
       "      <td>2</td>\n",
       "      <td>19200.0</td>\n",
       "      <td>19200.0</td>\n",
       "      <td>12.12</td>\n",
       "      <td>36.0</td>\n",
       "      <td>28.36</td>\n",
       "      <td>4583.33</td>\n",
       "      <td>715.0</td>\n",
       "      <td>12.0</td>\n",
       "      <td>11140.0</td>\n",
       "      <td>1.0</td>\n",
       "      <td>2.0</td>\n",
       "    </tr>\n",
       "    <tr>\n",
       "      <th>2</th>\n",
       "      <td>3</td>\n",
       "      <td>35000.0</td>\n",
       "      <td>35000.0</td>\n",
       "      <td>21.98</td>\n",
       "      <td>60.0</td>\n",
       "      <td>23.81</td>\n",
       "      <td>11500.00</td>\n",
       "      <td>690.0</td>\n",
       "      <td>14.0</td>\n",
       "      <td>21977.0</td>\n",
       "      <td>1.0</td>\n",
       "      <td>2.0</td>\n",
       "    </tr>\n",
       "    <tr>\n",
       "      <th>3</th>\n",
       "      <td>4</td>\n",
       "      <td>10000.0</td>\n",
       "      <td>9975.0</td>\n",
       "      <td>9.99</td>\n",
       "      <td>36.0</td>\n",
       "      <td>14.30</td>\n",
       "      <td>3833.33</td>\n",
       "      <td>695.0</td>\n",
       "      <td>10.0</td>\n",
       "      <td>9346.0</td>\n",
       "      <td>0.0</td>\n",
       "      <td>5.0</td>\n",
       "    </tr>\n",
       "    <tr>\n",
       "      <th>4</th>\n",
       "      <td>5</td>\n",
       "      <td>12000.0</td>\n",
       "      <td>12000.0</td>\n",
       "      <td>11.71</td>\n",
       "      <td>36.0</td>\n",
       "      <td>18.78</td>\n",
       "      <td>3195.00</td>\n",
       "      <td>695.0</td>\n",
       "      <td>11.0</td>\n",
       "      <td>14469.0</td>\n",
       "      <td>0.0</td>\n",
       "      <td>9.0</td>\n",
       "    </tr>\n",
       "  </tbody>\n",
       "</table>\n",
       "</div>"
      ],
      "text/plain": [
       "   Loan_id  Amount_Requested  Amount_Funded_By_Investors  Interest_Rate  \\\n",
       "0        1           20000.0                     20000.0           8.90   \n",
       "1        2           19200.0                     19200.0          12.12   \n",
       "2        3           35000.0                     35000.0          21.98   \n",
       "3        4           10000.0                      9975.0           9.99   \n",
       "4        5           12000.0                     12000.0          11.71   \n",
       "\n",
       "   Loan_Length  Debt_To_Income_Ratio  Monthly_Income  FICO_Range  \\\n",
       "0         36.0                 14.90         6541.67       735.0   \n",
       "1         36.0                 28.36         4583.33       715.0   \n",
       "2         60.0                 23.81        11500.00       690.0   \n",
       "3         36.0                 14.30         3833.33       695.0   \n",
       "4         36.0                 18.78         3195.00       695.0   \n",
       "\n",
       "   Open_CREDIT_Lines  Revolving_CREDIT_Balance  \\\n",
       "0               14.0                   14272.0   \n",
       "1               12.0                   11140.0   \n",
       "2               14.0                   21977.0   \n",
       "3               10.0                    9346.0   \n",
       "4               11.0                   14469.0   \n",
       "\n",
       "   Inquiries_in_the_Last_6_Months  Employment_Length  \n",
       "0                             2.0                1.0  \n",
       "1                             1.0                2.0  \n",
       "2                             1.0                2.0  \n",
       "3                             0.0                5.0  \n",
       "4                             0.0                9.0  "
      ]
     },
     "execution_count": 511,
     "metadata": {},
     "output_type": "execute_result"
    }
   ],
   "source": [
    "num_data.head()   "
   ]
  },
  {
   "cell_type": "markdown",
   "id": "1b77c73d",
   "metadata": {},
   "source": [
    "## observing a single column for the outliers"
   ]
  },
  {
   "cell_type": "code",
   "execution_count": 512,
   "id": "208770fd",
   "metadata": {},
   "outputs": [
    {
     "data": {
      "text/html": [
       "<div>\n",
       "<style scoped>\n",
       "    .dataframe tbody tr th:only-of-type {\n",
       "        vertical-align: middle;\n",
       "    }\n",
       "\n",
       "    .dataframe tbody tr th {\n",
       "        vertical-align: top;\n",
       "    }\n",
       "\n",
       "    .dataframe thead th {\n",
       "        text-align: right;\n",
       "    }\n",
       "</style>\n",
       "<table border=\"1\" class=\"dataframe\">\n",
       "  <thead>\n",
       "    <tr style=\"text-align: right;\">\n",
       "      <th></th>\n",
       "      <th>Loan_id</th>\n",
       "      <th>Amount_Requested</th>\n",
       "      <th>Amount_Funded_By_Investors</th>\n",
       "      <th>Interest_Rate</th>\n",
       "      <th>Loan_Length</th>\n",
       "      <th>Debt_To_Income_Ratio</th>\n",
       "      <th>Monthly_Income</th>\n",
       "      <th>FICO_Range</th>\n",
       "      <th>Open_CREDIT_Lines</th>\n",
       "      <th>Revolving_CREDIT_Balance</th>\n",
       "      <th>Inquiries_in_the_Last_6_Months</th>\n",
       "      <th>Employment_Length</th>\n",
       "    </tr>\n",
       "  </thead>\n",
       "  <tbody>\n",
       "    <tr>\n",
       "      <th>count</th>\n",
       "      <td>2499.000000</td>\n",
       "      <td>2499.000000</td>\n",
       "      <td>2499.00000</td>\n",
       "      <td>2499.000000</td>\n",
       "      <td>2499.000000</td>\n",
       "      <td>2499.000000</td>\n",
       "      <td>2499.000000</td>\n",
       "      <td>2499.000000</td>\n",
       "      <td>2499.000000</td>\n",
       "      <td>2499.000000</td>\n",
       "      <td>2499.000000</td>\n",
       "      <td>2499.00000</td>\n",
       "    </tr>\n",
       "    <tr>\n",
       "      <th>mean</th>\n",
       "      <td>1250.002801</td>\n",
       "      <td>12406.902761</td>\n",
       "      <td>12003.83477</td>\n",
       "      <td>13.066619</td>\n",
       "      <td>41.262905</td>\n",
       "      <td>15.380420</td>\n",
       "      <td>5688.864626</td>\n",
       "      <td>705.898359</td>\n",
       "      <td>10.073629</td>\n",
       "      <td>15221.817127</td>\n",
       "      <td>0.905162</td>\n",
       "      <td>5.47499</td>\n",
       "    </tr>\n",
       "    <tr>\n",
       "      <th>std</th>\n",
       "      <td>721.548325</td>\n",
       "      <td>7802.156772</td>\n",
       "      <td>7746.04527</td>\n",
       "      <td>4.175938</td>\n",
       "      <td>9.932322</td>\n",
       "      <td>7.505052</td>\n",
       "      <td>3963.128380</td>\n",
       "      <td>35.035486</td>\n",
       "      <td>4.504621</td>\n",
       "      <td>18273.326539</td>\n",
       "      <td>1.230862</td>\n",
       "      <td>3.38905</td>\n",
       "    </tr>\n",
       "    <tr>\n",
       "      <th>min</th>\n",
       "      <td>1.000000</td>\n",
       "      <td>1000.000000</td>\n",
       "      <td>-0.01000</td>\n",
       "      <td>5.420000</td>\n",
       "      <td>36.000000</td>\n",
       "      <td>0.000000</td>\n",
       "      <td>588.500000</td>\n",
       "      <td>640.000000</td>\n",
       "      <td>2.000000</td>\n",
       "      <td>0.000000</td>\n",
       "      <td>0.000000</td>\n",
       "      <td>1.00000</td>\n",
       "    </tr>\n",
       "    <tr>\n",
       "      <th>25%</th>\n",
       "      <td>625.500000</td>\n",
       "      <td>6000.000000</td>\n",
       "      <td>6000.00000</td>\n",
       "      <td>10.160000</td>\n",
       "      <td>36.000000</td>\n",
       "      <td>9.750000</td>\n",
       "      <td>3500.000000</td>\n",
       "      <td>680.000000</td>\n",
       "      <td>7.000000</td>\n",
       "      <td>5587.500000</td>\n",
       "      <td>0.000000</td>\n",
       "      <td>2.00000</td>\n",
       "    </tr>\n",
       "    <tr>\n",
       "      <th>50%</th>\n",
       "      <td>1250.000000</td>\n",
       "      <td>10000.000000</td>\n",
       "      <td>10000.00000</td>\n",
       "      <td>13.110000</td>\n",
       "      <td>36.000000</td>\n",
       "      <td>15.320000</td>\n",
       "      <td>5000.000000</td>\n",
       "      <td>700.000000</td>\n",
       "      <td>9.000000</td>\n",
       "      <td>10948.000000</td>\n",
       "      <td>0.000000</td>\n",
       "      <td>5.00000</td>\n",
       "    </tr>\n",
       "    <tr>\n",
       "      <th>75%</th>\n",
       "      <td>1874.500000</td>\n",
       "      <td>17000.000000</td>\n",
       "      <td>16000.00000</td>\n",
       "      <td>15.800000</td>\n",
       "      <td>36.000000</td>\n",
       "      <td>20.675000</td>\n",
       "      <td>6800.000000</td>\n",
       "      <td>725.000000</td>\n",
       "      <td>13.000000</td>\n",
       "      <td>18849.500000</td>\n",
       "      <td>1.000000</td>\n",
       "      <td>10.00000</td>\n",
       "    </tr>\n",
       "    <tr>\n",
       "      <th>max</th>\n",
       "      <td>2500.000000</td>\n",
       "      <td>35000.000000</td>\n",
       "      <td>35000.00000</td>\n",
       "      <td>24.890000</td>\n",
       "      <td>60.000000</td>\n",
       "      <td>34.910000</td>\n",
       "      <td>102750.000000</td>\n",
       "      <td>830.000000</td>\n",
       "      <td>38.000000</td>\n",
       "      <td>270800.000000</td>\n",
       "      <td>9.000000</td>\n",
       "      <td>10.00000</td>\n",
       "    </tr>\n",
       "  </tbody>\n",
       "</table>\n",
       "</div>"
      ],
      "text/plain": [
       "           Loan_id  Amount_Requested  Amount_Funded_By_Investors  \\\n",
       "count  2499.000000       2499.000000                  2499.00000   \n",
       "mean   1250.002801      12406.902761                 12003.83477   \n",
       "std     721.548325       7802.156772                  7746.04527   \n",
       "min       1.000000       1000.000000                    -0.01000   \n",
       "25%     625.500000       6000.000000                  6000.00000   \n",
       "50%    1250.000000      10000.000000                 10000.00000   \n",
       "75%    1874.500000      17000.000000                 16000.00000   \n",
       "max    2500.000000      35000.000000                 35000.00000   \n",
       "\n",
       "       Interest_Rate  Loan_Length  Debt_To_Income_Ratio  Monthly_Income  \\\n",
       "count    2499.000000  2499.000000           2499.000000     2499.000000   \n",
       "mean       13.066619    41.262905             15.380420     5688.864626   \n",
       "std         4.175938     9.932322              7.505052     3963.128380   \n",
       "min         5.420000    36.000000              0.000000      588.500000   \n",
       "25%        10.160000    36.000000              9.750000     3500.000000   \n",
       "50%        13.110000    36.000000             15.320000     5000.000000   \n",
       "75%        15.800000    36.000000             20.675000     6800.000000   \n",
       "max        24.890000    60.000000             34.910000   102750.000000   \n",
       "\n",
       "        FICO_Range  Open_CREDIT_Lines  Revolving_CREDIT_Balance  \\\n",
       "count  2499.000000        2499.000000               2499.000000   \n",
       "mean    705.898359          10.073629              15221.817127   \n",
       "std      35.035486           4.504621              18273.326539   \n",
       "min     640.000000           2.000000                  0.000000   \n",
       "25%     680.000000           7.000000               5587.500000   \n",
       "50%     700.000000           9.000000              10948.000000   \n",
       "75%     725.000000          13.000000              18849.500000   \n",
       "max     830.000000          38.000000             270800.000000   \n",
       "\n",
       "       Inquiries_in_the_Last_6_Months  Employment_Length  \n",
       "count                     2499.000000         2499.00000  \n",
       "mean                         0.905162            5.47499  \n",
       "std                          1.230862            3.38905  \n",
       "min                          0.000000            1.00000  \n",
       "25%                          0.000000            2.00000  \n",
       "50%                          0.000000            5.00000  \n",
       "75%                          1.000000           10.00000  \n",
       "max                          9.000000           10.00000  "
      ]
     },
     "execution_count": 512,
     "metadata": {},
     "output_type": "execute_result"
    }
   ],
   "source": [
    "num_data.describe()"
   ]
  },
  {
   "cell_type": "code",
   "execution_count": 513,
   "id": "f61df671",
   "metadata": {},
   "outputs": [
    {
     "data": {
      "text/plain": [
       "1000.0"
      ]
     },
     "execution_count": 513,
     "metadata": {},
     "output_type": "execute_result"
    }
   ],
   "source": [
    " min_Amt = num_data.Amount_Requested.min()\n",
    "min_Amt"
   ]
  },
  {
   "cell_type": "code",
   "execution_count": 514,
   "id": "86d0f4fd",
   "metadata": {},
   "outputs": [
    {
     "data": {
      "text/plain": [
       "35000.0"
      ]
     },
     "execution_count": 514,
     "metadata": {},
     "output_type": "execute_result"
    }
   ],
   "source": [
    "max_Amt = num_data.Amount_Requested.max()\n",
    "max_Amt"
   ]
  },
  {
   "cell_type": "markdown",
   "id": "9d1ffa0f",
   "metadata": {},
   "source": [
    "**quantile() helps to find the percentile vaues at each percentile mark.**"
   ]
  },
  {
   "cell_type": "code",
   "execution_count": 515,
   "id": "6c60461f",
   "metadata": {},
   "outputs": [
    {
     "data": {
      "text/plain": [
       "10000.0"
      ]
     },
     "execution_count": 515,
     "metadata": {},
     "output_type": "execute_result"
    }
   ],
   "source": [
    "median = num_data.Amount_Requested.quantile(0.5)\n",
    "median"
   ]
  },
  {
   "cell_type": "code",
   "execution_count": 516,
   "id": "00253f95",
   "metadata": {},
   "outputs": [],
   "source": [
    "f_q = num_data.Amount_Requested.quantile(0.25)\n",
    "t_q = num_data.Amount_Requested.quantile(0.75)\n",
    "p_1 = num_data.Amount_Requested.quantile(0.01)\n",
    "p_99 = num_data.Amount_Requested.quantile(0.99)"
   ]
  },
  {
   "cell_type": "code",
   "execution_count": 517,
   "id": "cae67847",
   "metadata": {},
   "outputs": [
    {
     "name": "stdout",
     "output_type": "stream",
     "text": [
      "First quartile: 6000.0\n",
      "Third quartile: 17000.0\n",
      "Bottom 1%ile cutoff: 1500.0\n",
      "Top 1%ile cutoff: 35000.0\n"
     ]
    }
   ],
   "source": [
    "print(\"First quartile:\",f_q)\n",
    "print(\"Third quartile:\",t_q)\n",
    "print(\"Bottom 1%ile cutoff:\",p_1)\n",
    "print(\"Top 1%ile cutoff:\",p_99)"
   ]
  },
  {
   "cell_type": "code",
   "execution_count": 518,
   "id": "4b71418a",
   "metadata": {},
   "outputs": [
    {
     "data": {
      "text/plain": [
       "11000"
      ]
     },
     "execution_count": 518,
     "metadata": {},
     "output_type": "execute_result"
    }
   ],
   "source": [
    "#iqr = q3 - q1\n",
    "iqr = 17000 - 6000\n",
    "iqr"
   ]
  },
  {
   "cell_type": "code",
   "execution_count": 519,
   "id": "dcf98ce6",
   "metadata": {},
   "outputs": [],
   "source": [
    "#lc = q1 - 1.5*iqr\n",
    "#uc = q3 + 1.5*iqr"
   ]
  },
  {
   "cell_type": "code",
   "execution_count": 520,
   "id": "7e164860",
   "metadata": {},
   "outputs": [
    {
     "data": {
      "text/plain": [
       "-10500.0"
      ]
     },
     "execution_count": 520,
     "metadata": {},
     "output_type": "execute_result"
    }
   ],
   "source": [
    "lc = 6000 - (1.5*iqr)\n",
    "lc"
   ]
  },
  {
   "cell_type": "code",
   "execution_count": 521,
   "id": "d13e5bbc",
   "metadata": {},
   "outputs": [
    {
     "data": {
      "text/plain": [
       "33500.0"
      ]
     },
     "execution_count": 521,
     "metadata": {},
     "output_type": "execute_result"
    }
   ],
   "source": [
    "uc = 17000 + (1.5*iqr)\n",
    "uc"
   ]
  },
  {
   "cell_type": "code",
   "execution_count": 522,
   "id": "75a9854b",
   "metadata": {},
   "outputs": [
    {
     "data": {
      "text/plain": [
       "<Axes: >"
      ]
     },
     "execution_count": 522,
     "metadata": {},
     "output_type": "execute_result"
    },
    {
     "data": {
      "image/png": "[encoded data removed]",
      "text/plain": [
       "<Figure size 640x480 with 1 Axes>"
      ]
     },
     "metadata": {},
     "output_type": "display_data"
    }
   ],
   "source": [
    "sns.boxplot(num_data.Amount_Requested)"
   ]
  },
  {
   "cell_type": "code",
   "execution_count": 523,
   "id": "6ca5adbc",
   "metadata": {},
   "outputs": [
    {
     "data": {
      "text/html": [
       "<div>\n",
       "<style scoped>\n",
       "    .dataframe tbody tr th:only-of-type {\n",
       "        vertical-align: middle;\n",
       "    }\n",
       "\n",
       "    .dataframe tbody tr th {\n",
       "        vertical-align: top;\n",
       "    }\n",
       "\n",
       "    .dataframe thead th {\n",
       "        text-align: right;\n",
       "    }\n",
       "</style>\n",
       "<table border=\"1\" class=\"dataframe\">\n",
       "  <thead>\n",
       "    <tr style=\"text-align: right;\">\n",
       "      <th></th>\n",
       "      <th>Loan_id</th>\n",
       "      <th>Amount_Requested</th>\n",
       "      <th>Amount_Funded_By_Investors</th>\n",
       "      <th>Interest_Rate</th>\n",
       "      <th>Loan_Length</th>\n",
       "      <th>Debt_To_Income_Ratio</th>\n",
       "      <th>Monthly_Income</th>\n",
       "      <th>FICO_Range</th>\n",
       "      <th>Open_CREDIT_Lines</th>\n",
       "      <th>Revolving_CREDIT_Balance</th>\n",
       "      <th>Inquiries_in_the_Last_6_Months</th>\n",
       "      <th>Employment_Length</th>\n",
       "    </tr>\n",
       "  </thead>\n",
       "  <tbody>\n",
       "    <tr>\n",
       "      <th>0</th>\n",
       "      <td>1</td>\n",
       "      <td>20000.0</td>\n",
       "      <td>20000.0</td>\n",
       "      <td>8.90</td>\n",
       "      <td>36.0</td>\n",
       "      <td>14.90</td>\n",
       "      <td>6541.67</td>\n",
       "      <td>735.0</td>\n",
       "      <td>14.0</td>\n",
       "      <td>14272.0</td>\n",
       "      <td>2.0</td>\n",
       "      <td>1.0</td>\n",
       "    </tr>\n",
       "    <tr>\n",
       "      <th>1</th>\n",
       "      <td>2</td>\n",
       "      <td>19200.0</td>\n",
       "      <td>19200.0</td>\n",
       "      <td>12.12</td>\n",
       "      <td>36.0</td>\n",
       "      <td>28.36</td>\n",
       "      <td>4583.33</td>\n",
       "      <td>715.0</td>\n",
       "      <td>12.0</td>\n",
       "      <td>11140.0</td>\n",
       "      <td>1.0</td>\n",
       "      <td>2.0</td>\n",
       "    </tr>\n",
       "    <tr>\n",
       "      <th>2</th>\n",
       "      <td>3</td>\n",
       "      <td>35000.0</td>\n",
       "      <td>35000.0</td>\n",
       "      <td>21.98</td>\n",
       "      <td>60.0</td>\n",
       "      <td>23.81</td>\n",
       "      <td>11500.00</td>\n",
       "      <td>690.0</td>\n",
       "      <td>14.0</td>\n",
       "      <td>21977.0</td>\n",
       "      <td>1.0</td>\n",
       "      <td>2.0</td>\n",
       "    </tr>\n",
       "    <tr>\n",
       "      <th>3</th>\n",
       "      <td>4</td>\n",
       "      <td>10000.0</td>\n",
       "      <td>9975.0</td>\n",
       "      <td>9.99</td>\n",
       "      <td>36.0</td>\n",
       "      <td>14.30</td>\n",
       "      <td>3833.33</td>\n",
       "      <td>695.0</td>\n",
       "      <td>10.0</td>\n",
       "      <td>9346.0</td>\n",
       "      <td>0.0</td>\n",
       "      <td>5.0</td>\n",
       "    </tr>\n",
       "    <tr>\n",
       "      <th>4</th>\n",
       "      <td>5</td>\n",
       "      <td>12000.0</td>\n",
       "      <td>12000.0</td>\n",
       "      <td>11.71</td>\n",
       "      <td>36.0</td>\n",
       "      <td>18.78</td>\n",
       "      <td>3195.00</td>\n",
       "      <td>695.0</td>\n",
       "      <td>11.0</td>\n",
       "      <td>14469.0</td>\n",
       "      <td>0.0</td>\n",
       "      <td>9.0</td>\n",
       "    </tr>\n",
       "  </tbody>\n",
       "</table>\n",
       "</div>"
      ],
      "text/plain": [
       "   Loan_id  Amount_Requested  Amount_Funded_By_Investors  Interest_Rate  \\\n",
       "0        1           20000.0                     20000.0           8.90   \n",
       "1        2           19200.0                     19200.0          12.12   \n",
       "2        3           35000.0                     35000.0          21.98   \n",
       "3        4           10000.0                      9975.0           9.99   \n",
       "4        5           12000.0                     12000.0          11.71   \n",
       "\n",
       "   Loan_Length  Debt_To_Income_Ratio  Monthly_Income  FICO_Range  \\\n",
       "0         36.0                 14.90         6541.67       735.0   \n",
       "1         36.0                 28.36         4583.33       715.0   \n",
       "2         60.0                 23.81        11500.00       690.0   \n",
       "3         36.0                 14.30         3833.33       695.0   \n",
       "4         36.0                 18.78         3195.00       695.0   \n",
       "\n",
       "   Open_CREDIT_Lines  Revolving_CREDIT_Balance  \\\n",
       "0               14.0                   14272.0   \n",
       "1               12.0                   11140.0   \n",
       "2               14.0                   21977.0   \n",
       "3               10.0                    9346.0   \n",
       "4               11.0                   14469.0   \n",
       "\n",
       "   Inquiries_in_the_Last_6_Months  Employment_Length  \n",
       "0                             2.0                1.0  \n",
       "1                             1.0                2.0  \n",
       "2                             1.0                2.0  \n",
       "3                             0.0                5.0  \n",
       "4                             0.0                9.0  "
      ]
     },
     "execution_count": 523,
     "metadata": {},
     "output_type": "execute_result"
    }
   ],
   "source": [
    "num_data.head()"
   ]
  },
  {
   "cell_type": "code",
   "execution_count": 524,
   "id": "ea40fa54",
   "metadata": {},
   "outputs": [
    {
     "data": {
      "text/plain": [
       "2"
      ]
     },
     "execution_count": 524,
     "metadata": {},
     "output_type": "execute_result"
    }
   ],
   "source": [
    "num_data.Loan_Length.nunique()"
   ]
  },
  {
   "cell_type": "code",
   "execution_count": 525,
   "id": "b05856f4",
   "metadata": {},
   "outputs": [
    {
     "data": {
      "text/plain": [
       "Loan_Length\n",
       "36.0    1951\n",
       "60.0     548\n",
       "Name: count, dtype: int64"
      ]
     },
     "execution_count": 525,
     "metadata": {},
     "output_type": "execute_result"
    }
   ],
   "source": [
    "num_data.Loan_Length.value_counts()"
   ]
  },
  {
   "cell_type": "code",
   "execution_count": 526,
   "id": "2f95f69d",
   "metadata": {},
   "outputs": [
    {
     "data": {
      "text/plain": [
       "Index(['Loan_id', 'Amount_Requested', 'Amount_Funded_By_Investors',\n",
       "       'Interest_Rate', 'Loan_Length', 'Debt_To_Income_Ratio',\n",
       "       'Monthly_Income', 'FICO_Range', 'Open_CREDIT_Lines',\n",
       "       'Revolving_CREDIT_Balance', 'Inquiries_in_the_Last_6_Months',\n",
       "       'Employment_Length'],\n",
       "      dtype='object')"
      ]
     },
     "execution_count": 526,
     "metadata": {},
     "output_type": "execute_result"
    }
   ],
   "source": [
    "num_data.columns"
   ]
  },
  {
   "cell_type": "code",
   "execution_count": 527,
   "id": "2f9f7419",
   "metadata": {},
   "outputs": [
    {
     "data": {
      "text/plain": [
       "Inquiries_in_the_Last_6_Months\n",
       "0.0    1252\n",
       "1.0     657\n",
       "2.0     335\n",
       "3.0     169\n",
       "4.0      50\n",
       "5.0      14\n",
       "6.0       8\n",
       "7.0       7\n",
       "9.0       5\n",
       "8.0       2\n",
       "Name: count, dtype: int64"
      ]
     },
     "execution_count": 527,
     "metadata": {},
     "output_type": "execute_result"
    }
   ],
   "source": [
    "num_data.Inquiries_in_the_Last_6_Months.value_counts()"
   ]
  },
  {
   "cell_type": "code",
   "execution_count": 528,
   "id": "e2eab7f8",
   "metadata": {},
   "outputs": [
    {
     "data": {
      "image/png": "[encoded data removed]",
      "text/plain": [
       "<Figure size 640x480 with 1 Axes>"
      ]
     },
     "metadata": {},
     "output_type": "display_data"
    },
    {
     "data": {
      "image/png": "[encoded data removed]",
      "text/plain": [
       "<Figure size 640x480 with 1 Axes>"
      ]
     },
     "metadata": {},
     "output_type": "display_data"
    },
    {
     "data": {
      "image/png": "[encoded data removed]",
      "text/plain": [
       "<Figure size 640x480 with 1 Axes>"
      ]
     },
     "metadata": {},
     "output_type": "display_data"
    },
    {
     "data": {
      "image/png": "[encoded data removed]",
      "text/plain": [
       "<Figure size 640x480 with 1 Axes>"
      ]
     },
     "metadata": {},
     "output_type": "display_data"
    },
    {
     "data": {
      "image/png": "[encoded data removed]",
      "text/plain": [
       "<Figure size 640x480 with 1 Axes>"
      ]
     },
     "metadata": {},
     "output_type": "display_data"
    },
    {
     "data": {
      "image/png": "[encoded data removed]",
      "text/plain": [
       "<Figure size 640x480 with 1 Axes>"
      ]
     },
     "metadata": {},
     "output_type": "display_data"
    },
    {
     "data": {
      "image/png": "[encoded data removed]",
      "text/plain": [
       "<Figure size 640x480 with 1 Axes>"
      ]
     },
     "metadata": {},
     "output_type": "display_data"
    },
    {
     "data": {
      "image/png": "[encoded data removed]",
      "text/plain": [
       "<Figure size 640x480 with 1 Axes>"
      ]
     },
     "metadata": {},
     "output_type": "display_data"
    },
    {
     "data": {
      "image/png": "[encoded data removed]",
      "text/plain": [
       "<Figure size 640x480 with 1 Axes>"
      ]
     },
     "metadata": {},
     "output_type": "display_data"
    },
    {
     "data": {
      "image/png": "[encoded data removed]",
      "text/plain": [
       "<Figure size 640x480 with 1 Axes>"
      ]
     },
     "metadata": {},
     "output_type": "display_data"
    },
    {
     "data": {
      "image/png": "[encoded data removed]",
      "text/plain": [
       "<Figure size 640x480 with 1 Axes>"
      ]
     },
     "metadata": {},
     "output_type": "display_data"
    },
    {
     "data": {
      "image/png": "[encoded data removed]",
      "text/plain": [
       "<Figure size 640x480 with 1 Axes>"
      ]
     },
     "metadata": {},
     "output_type": "display_data"
    }
   ],
   "source": [
    "for col in num_data:\n",
    "    sns.boxplot(num_data[col])\n",
    "    plt.show()"
   ]
  },
  {
   "cell_type": "code",
   "execution_count": 529,
   "id": "48a25ef6",
   "metadata": {},
   "outputs": [
    {
     "data": {
      "text/html": [
       "<div>\n",
       "<style scoped>\n",
       "    .dataframe tbody tr th:only-of-type {\n",
       "        vertical-align: middle;\n",
       "    }\n",
       "\n",
       "    .dataframe tbody tr th {\n",
       "        vertical-align: top;\n",
       "    }\n",
       "\n",
       "    .dataframe thead th {\n",
       "        text-align: right;\n",
       "    }\n",
       "</style>\n",
       "<table border=\"1\" class=\"dataframe\">\n",
       "  <thead>\n",
       "    <tr style=\"text-align: right;\">\n",
       "      <th></th>\n",
       "      <th>Loan_id</th>\n",
       "      <th>Amount_Requested</th>\n",
       "      <th>Amount_Funded_By_Investors</th>\n",
       "      <th>Interest_Rate</th>\n",
       "      <th>Loan_Length</th>\n",
       "      <th>Debt_To_Income_Ratio</th>\n",
       "      <th>Monthly_Income</th>\n",
       "      <th>FICO_Range</th>\n",
       "      <th>Open_CREDIT_Lines</th>\n",
       "      <th>Revolving_CREDIT_Balance</th>\n",
       "      <th>Inquiries_in_the_Last_6_Months</th>\n",
       "      <th>Employment_Length</th>\n",
       "    </tr>\n",
       "  </thead>\n",
       "  <tbody>\n",
       "    <tr>\n",
       "      <th>0</th>\n",
       "      <td>1</td>\n",
       "      <td>20000.0</td>\n",
       "      <td>20000.0</td>\n",
       "      <td>8.90</td>\n",
       "      <td>36.0</td>\n",
       "      <td>14.90</td>\n",
       "      <td>6541.67</td>\n",
       "      <td>735.0</td>\n",
       "      <td>14.0</td>\n",
       "      <td>14272.0</td>\n",
       "      <td>2.0</td>\n",
       "      <td>1.0</td>\n",
       "    </tr>\n",
       "    <tr>\n",
       "      <th>1</th>\n",
       "      <td>2</td>\n",
       "      <td>19200.0</td>\n",
       "      <td>19200.0</td>\n",
       "      <td>12.12</td>\n",
       "      <td>36.0</td>\n",
       "      <td>28.36</td>\n",
       "      <td>4583.33</td>\n",
       "      <td>715.0</td>\n",
       "      <td>12.0</td>\n",
       "      <td>11140.0</td>\n",
       "      <td>1.0</td>\n",
       "      <td>2.0</td>\n",
       "    </tr>\n",
       "    <tr>\n",
       "      <th>2</th>\n",
       "      <td>3</td>\n",
       "      <td>35000.0</td>\n",
       "      <td>35000.0</td>\n",
       "      <td>21.98</td>\n",
       "      <td>60.0</td>\n",
       "      <td>23.81</td>\n",
       "      <td>11500.00</td>\n",
       "      <td>690.0</td>\n",
       "      <td>14.0</td>\n",
       "      <td>21977.0</td>\n",
       "      <td>1.0</td>\n",
       "      <td>2.0</td>\n",
       "    </tr>\n",
       "    <tr>\n",
       "      <th>3</th>\n",
       "      <td>4</td>\n",
       "      <td>10000.0</td>\n",
       "      <td>9975.0</td>\n",
       "      <td>9.99</td>\n",
       "      <td>36.0</td>\n",
       "      <td>14.30</td>\n",
       "      <td>3833.33</td>\n",
       "      <td>695.0</td>\n",
       "      <td>10.0</td>\n",
       "      <td>9346.0</td>\n",
       "      <td>0.0</td>\n",
       "      <td>5.0</td>\n",
       "    </tr>\n",
       "    <tr>\n",
       "      <th>4</th>\n",
       "      <td>5</td>\n",
       "      <td>12000.0</td>\n",
       "      <td>12000.0</td>\n",
       "      <td>11.71</td>\n",
       "      <td>36.0</td>\n",
       "      <td>18.78</td>\n",
       "      <td>3195.00</td>\n",
       "      <td>695.0</td>\n",
       "      <td>11.0</td>\n",
       "      <td>14469.0</td>\n",
       "      <td>0.0</td>\n",
       "      <td>9.0</td>\n",
       "    </tr>\n",
       "  </tbody>\n",
       "</table>\n",
       "</div>"
      ],
      "text/plain": [
       "   Loan_id  Amount_Requested  Amount_Funded_By_Investors  Interest_Rate  \\\n",
       "0        1           20000.0                     20000.0           8.90   \n",
       "1        2           19200.0                     19200.0          12.12   \n",
       "2        3           35000.0                     35000.0          21.98   \n",
       "3        4           10000.0                      9975.0           9.99   \n",
       "4        5           12000.0                     12000.0          11.71   \n",
       "\n",
       "   Loan_Length  Debt_To_Income_Ratio  Monthly_Income  FICO_Range  \\\n",
       "0         36.0                 14.90         6541.67       735.0   \n",
       "1         36.0                 28.36         4583.33       715.0   \n",
       "2         60.0                 23.81        11500.00       690.0   \n",
       "3         36.0                 14.30         3833.33       695.0   \n",
       "4         36.0                 18.78         3195.00       695.0   \n",
       "\n",
       "   Open_CREDIT_Lines  Revolving_CREDIT_Balance  \\\n",
       "0               14.0                   14272.0   \n",
       "1               12.0                   11140.0   \n",
       "2               14.0                   21977.0   \n",
       "3               10.0                    9346.0   \n",
       "4               11.0                   14469.0   \n",
       "\n",
       "   Inquiries_in_the_Last_6_Months  Employment_Length  \n",
       "0                             2.0                1.0  \n",
       "1                             1.0                2.0  \n",
       "2                             1.0                2.0  \n",
       "3                             0.0                5.0  \n",
       "4                             0.0                9.0  "
      ]
     },
     "execution_count": 529,
     "metadata": {},
     "output_type": "execute_result"
    }
   ],
   "source": [
    "num_data.head() "
   ]
  },
  {
   "cell_type": "code",
   "execution_count": 530,
   "id": "c58cf8bf",
   "metadata": {},
   "outputs": [
    {
     "data": {
      "text/plain": [
       "-10500.0"
      ]
     },
     "execution_count": 530,
     "metadata": {},
     "output_type": "execute_result"
    }
   ],
   "source": [
    "lc"
   ]
  },
  {
   "cell_type": "code",
   "execution_count": 531,
   "id": "55368b3c",
   "metadata": {},
   "outputs": [
    {
     "data": {
      "text/plain": [
       "33500.0"
      ]
     },
     "execution_count": 531,
     "metadata": {},
     "output_type": "execute_result"
    }
   ],
   "source": [
    "uc"
   ]
  },
  {
   "cell_type": "code",
   "execution_count": 532,
   "id": "f4ad40f8",
   "metadata": {},
   "outputs": [],
   "source": [
    "#Outliers have been clipped.\n",
    "num_data['Amount_Requested'] = num_data.Amount_Requested.clip(lower = lc, upper = uc)"
   ]
  },
  {
   "cell_type": "code",
   "execution_count": 533,
   "id": "22b7c206",
   "metadata": {},
   "outputs": [
    {
     "data": {
      "text/plain": [
       "<Axes: >"
      ]
     },
     "execution_count": 533,
     "metadata": {},
     "output_type": "execute_result"
    },
    {
     "data": {
      "image/png": "[encoded data removed]",
      "text/plain": [
       "<Figure size 640x480 with 1 Axes>"
      ]
     },
     "metadata": {},
     "output_type": "display_data"
    }
   ],
   "source": [
    "sns.boxplot(num_data.Amount_Requested)"
   ]
  },
  {
   "cell_type": "code",
   "execution_count": 534,
   "id": "80911078",
   "metadata": {},
   "outputs": [
    {
     "data": {
      "text/plain": [
       "<Axes: >"
      ]
     },
     "execution_count": 534,
     "metadata": {},
     "output_type": "execute_result"
    },
    {
     "data": {
      "image/png": "[encoded data removed]",
      "text/plain": [
       "<Figure size 640x480 with 1 Axes>"
      ]
     },
     "metadata": {},
     "output_type": "display_data"
    }
   ],
   "source": [
    "sns.boxplot(num_data.Amount_Requested)"
   ]
  },
  {
   "cell_type": "code",
   "execution_count": 535,
   "id": "07f9484e",
   "metadata": {},
   "outputs": [
    {
     "data": {
      "text/plain": [
       "Index(['Loan_id', 'Amount_Requested', 'Amount_Funded_By_Investors',\n",
       "       'Interest_Rate', 'Loan_Length', 'Debt_To_Income_Ratio',\n",
       "       'Monthly_Income', 'FICO_Range', 'Open_CREDIT_Lines',\n",
       "       'Revolving_CREDIT_Balance', 'Inquiries_in_the_Last_6_Months',\n",
       "       'Employment_Length'],\n",
       "      dtype='object')"
      ]
     },
     "execution_count": 535,
     "metadata": {},
     "output_type": "execute_result"
    }
   ],
   "source": [
    "num_data.columns"
   ]
  },
  {
   "cell_type": "code",
   "execution_count": 536,
   "id": "ee0042b3",
   "metadata": {},
   "outputs": [
    {
     "data": {
      "text/plain": [
       "<Axes: >"
      ]
     },
     "execution_count": 536,
     "metadata": {},
     "output_type": "execute_result"
    },
    {
     "data": {
      "image/png": "[encoded data removed]",
      "text/plain": [
       "<Figure size 640x480 with 1 Axes>"
      ]
     },
     "metadata": {},
     "output_type": "display_data"
    }
   ],
   "source": [
    "sns.boxplot(num_data.Amount_Funded_By_Investors)"
   ]
  },
  {
   "cell_type": "code",
   "execution_count": 537,
   "id": "2a096ff1",
   "metadata": {},
   "outputs": [],
   "source": [
    "num_data['Amount_Requested'] = num_data.Amount_Funded_By_Investors.clip(lower = lc, upper = uc)"
   ]
  },
  {
   "cell_type": "markdown",
   "id": "696c77bf",
   "metadata": {},
   "source": [
    "## Outlier treatment IQR Method"
   ]
  },
  {
   "cell_type": "code",
   "execution_count": 538,
   "id": "16b957ad",
   "metadata": {},
   "outputs": [],
   "source": [
    "def outlier_IQR(s):\n",
    "    m = s.quantile(0.5)\n",
    "    q1 = s.quantile(0.25)\n",
    "    q3 = s.quantile(0.75)\n",
    "    q_1p = s.quantile(0.01)\n",
    "    q_99p = s.quantile(0.99)\n",
    "    iqr = q3 - q1\n",
    "    lc = q1 - 1.5*iqr\n",
    "    uc = q3 + 1.5*iqr\n",
    "    result = pd.Series([m,q1,q3,q_1p,q_99p,iqr,lc,uc])\n",
    "    result.index = ['median','first_quartile','third_quartile','pc_1','pc_99','iqr','lower_cutoff','upper_cutoff']\n",
    "    return result"
   ]
  },
  {
   "cell_type": "code",
   "execution_count": 539,
   "id": "19d59657",
   "metadata": {},
   "outputs": [],
   "source": [
    "def outliertreat_IQR(d):\n",
    "    m = d.quantile(0.5)\n",
    "    q1 = d.quantile(0.25)\n",
    "    q3 = d.quantile(0.75)\n",
    "    q_1p = d.quantile(0.01)\n",
    "    q_99p = d.quantile(0.99)\n",
    "    iqr = q3 - q1\n",
    "    lc = q1 - 1.5*iqr\n",
    "    uc = q3 + 1.5*iqr\n",
    "    return lc,uc"
   ]
  },
  {
   "cell_type": "code",
   "execution_count": 540,
   "id": "49857194",
   "metadata": {},
   "outputs": [
    {
     "data": {
      "text/html": [
       "<div>\n",
       "<style scoped>\n",
       "    .dataframe tbody tr th:only-of-type {\n",
       "        vertical-align: middle;\n",
       "    }\n",
       "\n",
       "    .dataframe tbody tr th {\n",
       "        vertical-align: top;\n",
       "    }\n",
       "\n",
       "    .dataframe thead th {\n",
       "        text-align: right;\n",
       "    }\n",
       "</style>\n",
       "<table border=\"1\" class=\"dataframe\">\n",
       "  <thead>\n",
       "    <tr style=\"text-align: right;\">\n",
       "      <th></th>\n",
       "      <th>Loan_id</th>\n",
       "      <th>Amount_Requested</th>\n",
       "      <th>Amount_Funded_By_Investors</th>\n",
       "      <th>Interest_Rate</th>\n",
       "      <th>Loan_Length</th>\n",
       "      <th>Debt_To_Income_Ratio</th>\n",
       "      <th>Monthly_Income</th>\n",
       "      <th>FICO_Range</th>\n",
       "      <th>Open_CREDIT_Lines</th>\n",
       "      <th>Revolving_CREDIT_Balance</th>\n",
       "      <th>Inquiries_in_the_Last_6_Months</th>\n",
       "      <th>Employment_Length</th>\n",
       "    </tr>\n",
       "  </thead>\n",
       "  <tbody>\n",
       "    <tr>\n",
       "      <th>0</th>\n",
       "      <td>-1248.0</td>\n",
       "      <td>-9000.0</td>\n",
       "      <td>-9000.0</td>\n",
       "      <td>1.70</td>\n",
       "      <td>36.0</td>\n",
       "      <td>-6.6375</td>\n",
       "      <td>-1450.0</td>\n",
       "      <td>612.5</td>\n",
       "      <td>-2.0</td>\n",
       "      <td>-14305.5</td>\n",
       "      <td>-1.5</td>\n",
       "      <td>-10.0</td>\n",
       "    </tr>\n",
       "    <tr>\n",
       "      <th>1</th>\n",
       "      <td>3748.0</td>\n",
       "      <td>31000.0</td>\n",
       "      <td>31000.0</td>\n",
       "      <td>24.26</td>\n",
       "      <td>36.0</td>\n",
       "      <td>37.0625</td>\n",
       "      <td>11750.0</td>\n",
       "      <td>792.5</td>\n",
       "      <td>22.0</td>\n",
       "      <td>38742.5</td>\n",
       "      <td>2.5</td>\n",
       "      <td>22.0</td>\n",
       "    </tr>\n",
       "  </tbody>\n",
       "</table>\n",
       "</div>"
      ],
      "text/plain": [
       "   Loan_id  Amount_Requested  Amount_Funded_By_Investors  Interest_Rate  \\\n",
       "0  -1248.0           -9000.0                     -9000.0           1.70   \n",
       "1   3748.0           31000.0                     31000.0          24.26   \n",
       "\n",
       "   Loan_Length  Debt_To_Income_Ratio  Monthly_Income  FICO_Range  \\\n",
       "0         36.0               -6.6375         -1450.0       612.5   \n",
       "1         36.0               37.0625         11750.0       792.5   \n",
       "\n",
       "   Open_CREDIT_Lines  Revolving_CREDIT_Balance  \\\n",
       "0               -2.0                  -14305.5   \n",
       "1               22.0                   38742.5   \n",
       "\n",
       "   Inquiries_in_the_Last_6_Months  Employment_Length  \n",
       "0                            -1.5              -10.0  \n",
       "1                             2.5               22.0  "
      ]
     },
     "execution_count": 540,
     "metadata": {},
     "output_type": "execute_result"
    }
   ],
   "source": [
    "num_data.apply(outliertreat_IQR)"
   ]
  },
  {
   "cell_type": "code",
   "execution_count": 541,
   "id": "46dc75be",
   "metadata": {},
   "outputs": [
    {
     "data": {
      "text/html": [
       "<div>\n",
       "<style scoped>\n",
       "    .dataframe tbody tr th:only-of-type {\n",
       "        vertical-align: middle;\n",
       "    }\n",
       "\n",
       "    .dataframe tbody tr th {\n",
       "        vertical-align: top;\n",
       "    }\n",
       "\n",
       "    .dataframe thead th {\n",
       "        text-align: right;\n",
       "    }\n",
       "</style>\n",
       "<table border=\"1\" class=\"dataframe\">\n",
       "  <thead>\n",
       "    <tr style=\"text-align: right;\">\n",
       "      <th></th>\n",
       "      <th>Loan_id</th>\n",
       "      <th>Amount_Requested</th>\n",
       "      <th>Amount_Funded_By_Investors</th>\n",
       "      <th>Interest_Rate</th>\n",
       "      <th>Loan_Length</th>\n",
       "      <th>Debt_To_Income_Ratio</th>\n",
       "      <th>Monthly_Income</th>\n",
       "      <th>FICO_Range</th>\n",
       "      <th>Open_CREDIT_Lines</th>\n",
       "      <th>Revolving_CREDIT_Balance</th>\n",
       "      <th>Inquiries_in_the_Last_6_Months</th>\n",
       "      <th>Employment_Length</th>\n",
       "    </tr>\n",
       "  </thead>\n",
       "  <tbody>\n",
       "    <tr>\n",
       "      <th>median</th>\n",
       "      <td>1250.00</td>\n",
       "      <td>10000.0000</td>\n",
       "      <td>10000.0000</td>\n",
       "      <td>13.1100</td>\n",
       "      <td>36.0</td>\n",
       "      <td>15.3200</td>\n",
       "      <td>5000.0000</td>\n",
       "      <td>700.0</td>\n",
       "      <td>9.0</td>\n",
       "      <td>10948.00</td>\n",
       "      <td>0.0</td>\n",
       "      <td>5.0</td>\n",
       "    </tr>\n",
       "    <tr>\n",
       "      <th>first_quartile</th>\n",
       "      <td>625.50</td>\n",
       "      <td>6000.0000</td>\n",
       "      <td>6000.0000</td>\n",
       "      <td>10.1600</td>\n",
       "      <td>36.0</td>\n",
       "      <td>9.7500</td>\n",
       "      <td>3500.0000</td>\n",
       "      <td>680.0</td>\n",
       "      <td>7.0</td>\n",
       "      <td>5587.50</td>\n",
       "      <td>0.0</td>\n",
       "      <td>2.0</td>\n",
       "    </tr>\n",
       "    <tr>\n",
       "      <th>third_quartile</th>\n",
       "      <td>1874.50</td>\n",
       "      <td>16000.0000</td>\n",
       "      <td>16000.0000</td>\n",
       "      <td>15.8000</td>\n",
       "      <td>36.0</td>\n",
       "      <td>20.6750</td>\n",
       "      <td>6800.0000</td>\n",
       "      <td>725.0</td>\n",
       "      <td>13.0</td>\n",
       "      <td>18849.50</td>\n",
       "      <td>1.0</td>\n",
       "      <td>10.0</td>\n",
       "    </tr>\n",
       "    <tr>\n",
       "      <th>pc_1</th>\n",
       "      <td>25.98</td>\n",
       "      <td>998.3456</td>\n",
       "      <td>998.3456</td>\n",
       "      <td>5.9860</td>\n",
       "      <td>36.0</td>\n",
       "      <td>0.7180</td>\n",
       "      <td>1416.4032</td>\n",
       "      <td>660.0</td>\n",
       "      <td>3.0</td>\n",
       "      <td>0.00</td>\n",
       "      <td>0.0</td>\n",
       "      <td>1.0</td>\n",
       "    </tr>\n",
       "    <tr>\n",
       "      <th>pc_99</th>\n",
       "      <td>2474.02</td>\n",
       "      <td>33500.0000</td>\n",
       "      <td>35000.0000</td>\n",
       "      <td>22.9566</td>\n",
       "      <td>60.0</td>\n",
       "      <td>33.2300</td>\n",
       "      <td>18750.0000</td>\n",
       "      <td>805.0</td>\n",
       "      <td>23.0</td>\n",
       "      <td>92416.32</td>\n",
       "      <td>5.0</td>\n",
       "      <td>10.0</td>\n",
       "    </tr>\n",
       "    <tr>\n",
       "      <th>iqr</th>\n",
       "      <td>1249.00</td>\n",
       "      <td>10000.0000</td>\n",
       "      <td>10000.0000</td>\n",
       "      <td>5.6400</td>\n",
       "      <td>0.0</td>\n",
       "      <td>10.9250</td>\n",
       "      <td>3300.0000</td>\n",
       "      <td>45.0</td>\n",
       "      <td>6.0</td>\n",
       "      <td>13262.00</td>\n",
       "      <td>1.0</td>\n",
       "      <td>8.0</td>\n",
       "    </tr>\n",
       "    <tr>\n",
       "      <th>lower_cutoff</th>\n",
       "      <td>-1248.00</td>\n",
       "      <td>-9000.0000</td>\n",
       "      <td>-9000.0000</td>\n",
       "      <td>1.7000</td>\n",
       "      <td>36.0</td>\n",
       "      <td>-6.6375</td>\n",
       "      <td>-1450.0000</td>\n",
       "      <td>612.5</td>\n",
       "      <td>-2.0</td>\n",
       "      <td>-14305.50</td>\n",
       "      <td>-1.5</td>\n",
       "      <td>-10.0</td>\n",
       "    </tr>\n",
       "    <tr>\n",
       "      <th>upper_cutoff</th>\n",
       "      <td>3748.00</td>\n",
       "      <td>31000.0000</td>\n",
       "      <td>31000.0000</td>\n",
       "      <td>24.2600</td>\n",
       "      <td>36.0</td>\n",
       "      <td>37.0625</td>\n",
       "      <td>11750.0000</td>\n",
       "      <td>792.5</td>\n",
       "      <td>22.0</td>\n",
       "      <td>38742.50</td>\n",
       "      <td>2.5</td>\n",
       "      <td>22.0</td>\n",
       "    </tr>\n",
       "  </tbody>\n",
       "</table>\n",
       "</div>"
      ],
      "text/plain": [
       "                Loan_id  Amount_Requested  Amount_Funded_By_Investors  \\\n",
       "median          1250.00        10000.0000                  10000.0000   \n",
       "first_quartile   625.50         6000.0000                   6000.0000   \n",
       "third_quartile  1874.50        16000.0000                  16000.0000   \n",
       "pc_1              25.98          998.3456                    998.3456   \n",
       "pc_99           2474.02        33500.0000                  35000.0000   \n",
       "iqr             1249.00        10000.0000                  10000.0000   \n",
       "lower_cutoff   -1248.00        -9000.0000                  -9000.0000   \n",
       "upper_cutoff    3748.00        31000.0000                  31000.0000   \n",
       "\n",
       "                Interest_Rate  Loan_Length  Debt_To_Income_Ratio  \\\n",
       "median                13.1100         36.0               15.3200   \n",
       "first_quartile        10.1600         36.0                9.7500   \n",
       "third_quartile        15.8000         36.0               20.6750   \n",
       "pc_1                   5.9860         36.0                0.7180   \n",
       "pc_99                 22.9566         60.0               33.2300   \n",
       "iqr                    5.6400          0.0               10.9250   \n",
       "lower_cutoff           1.7000         36.0               -6.6375   \n",
       "upper_cutoff          24.2600         36.0               37.0625   \n",
       "\n",
       "                Monthly_Income  FICO_Range  Open_CREDIT_Lines  \\\n",
       "median               5000.0000       700.0                9.0   \n",
       "first_quartile       3500.0000       680.0                7.0   \n",
       "third_quartile       6800.0000       725.0               13.0   \n",
       "pc_1                 1416.4032       660.0                3.0   \n",
       "pc_99               18750.0000       805.0               23.0   \n",
       "iqr                  3300.0000        45.0                6.0   \n",
       "lower_cutoff        -1450.0000       612.5               -2.0   \n",
       "upper_cutoff        11750.0000       792.5               22.0   \n",
       "\n",
       "                Revolving_CREDIT_Balance  Inquiries_in_the_Last_6_Months  \\\n",
       "median                          10948.00                             0.0   \n",
       "first_quartile                   5587.50                             0.0   \n",
       "third_quartile                  18849.50                             1.0   \n",
       "pc_1                                0.00                             0.0   \n",
       "pc_99                           92416.32                             5.0   \n",
       "iqr                             13262.00                             1.0   \n",
       "lower_cutoff                   -14305.50                            -1.5   \n",
       "upper_cutoff                    38742.50                             2.5   \n",
       "\n",
       "                Employment_Length  \n",
       "median                        5.0  \n",
       "first_quartile                2.0  \n",
       "third_quartile               10.0  \n",
       "pc_1                          1.0  \n",
       "pc_99                        10.0  \n",
       "iqr                           8.0  \n",
       "lower_cutoff                -10.0  \n",
       "upper_cutoff                 22.0  "
      ]
     },
     "execution_count": 541,
     "metadata": {},
     "output_type": "execute_result"
    }
   ],
   "source": [
    "num_data.apply(outlier_IQR)"
   ]
  },
  {
   "cell_type": "code",
   "execution_count": 542,
   "id": "e8c254f3",
   "metadata": {},
   "outputs": [
    {
     "data": {
      "text/html": [
       "<div>\n",
       "<style scoped>\n",
       "    .dataframe tbody tr th:only-of-type {\n",
       "        vertical-align: middle;\n",
       "    }\n",
       "\n",
       "    .dataframe tbody tr th {\n",
       "        vertical-align: top;\n",
       "    }\n",
       "\n",
       "    .dataframe thead th {\n",
       "        text-align: right;\n",
       "    }\n",
       "</style>\n",
       "<table border=\"1\" class=\"dataframe\">\n",
       "  <thead>\n",
       "    <tr style=\"text-align: right;\">\n",
       "      <th></th>\n",
       "      <th>Loan_id</th>\n",
       "      <th>Amount_Requested</th>\n",
       "      <th>Amount_Funded_By_Investors</th>\n",
       "      <th>Interest_Rate</th>\n",
       "      <th>Loan_Length</th>\n",
       "      <th>Debt_To_Income_Ratio</th>\n",
       "      <th>Monthly_Income</th>\n",
       "      <th>FICO_Range</th>\n",
       "      <th>Open_CREDIT_Lines</th>\n",
       "      <th>Revolving_CREDIT_Balance</th>\n",
       "      <th>Inquiries_in_the_Last_6_Months</th>\n",
       "      <th>Employment_Length</th>\n",
       "    </tr>\n",
       "  </thead>\n",
       "  <tbody>\n",
       "    <tr>\n",
       "      <th>0</th>\n",
       "      <td>-1248.0</td>\n",
       "      <td>-9000.0</td>\n",
       "      <td>-9000.0</td>\n",
       "      <td>1.70</td>\n",
       "      <td>36.0</td>\n",
       "      <td>-6.6375</td>\n",
       "      <td>-1450.0</td>\n",
       "      <td>612.5</td>\n",
       "      <td>-2.0</td>\n",
       "      <td>-14305.5</td>\n",
       "      <td>-1.5</td>\n",
       "      <td>-10.0</td>\n",
       "    </tr>\n",
       "    <tr>\n",
       "      <th>1</th>\n",
       "      <td>3748.0</td>\n",
       "      <td>31000.0</td>\n",
       "      <td>31000.0</td>\n",
       "      <td>24.26</td>\n",
       "      <td>36.0</td>\n",
       "      <td>37.0625</td>\n",
       "      <td>11750.0</td>\n",
       "      <td>792.5</td>\n",
       "      <td>22.0</td>\n",
       "      <td>38742.5</td>\n",
       "      <td>2.5</td>\n",
       "      <td>22.0</td>\n",
       "    </tr>\n",
       "  </tbody>\n",
       "</table>\n",
       "</div>"
      ],
      "text/plain": [
       "   Loan_id  Amount_Requested  Amount_Funded_By_Investors  Interest_Rate  \\\n",
       "0  -1248.0           -9000.0                     -9000.0           1.70   \n",
       "1   3748.0           31000.0                     31000.0          24.26   \n",
       "\n",
       "   Loan_Length  Debt_To_Income_Ratio  Monthly_Income  FICO_Range  \\\n",
       "0         36.0               -6.6375         -1450.0       612.5   \n",
       "1         36.0               37.0625         11750.0       792.5   \n",
       "\n",
       "   Open_CREDIT_Lines  Revolving_CREDIT_Balance  \\\n",
       "0               -2.0                  -14305.5   \n",
       "1               22.0                   38742.5   \n",
       "\n",
       "   Inquiries_in_the_Last_6_Months  Employment_Length  \n",
       "0                            -1.5              -10.0  \n",
       "1                             2.5               22.0  "
      ]
     },
     "execution_count": 542,
     "metadata": {},
     "output_type": "execute_result"
    }
   ],
   "source": [
    "cutoffs = pd.DataFrame(num_data.apply(outliertreat_IQR))\n",
    "cutoffs"
   ]
  },
  {
   "cell_type": "markdown",
   "id": "84d44b2e",
   "metadata": {},
   "source": [
    "## Outlier treatment of only required columns"
   ]
  },
  {
   "cell_type": "code",
   "execution_count": 543,
   "id": "29709822",
   "metadata": {},
   "outputs": [
    {
     "data": {
      "text/plain": [
       "Index(['Loan_id', 'Amount_Requested', 'Amount_Funded_By_Investors',\n",
       "       'Interest_Rate', 'Loan_Length', 'Debt_To_Income_Ratio',\n",
       "       'Monthly_Income', 'FICO_Range', 'Open_CREDIT_Lines',\n",
       "       'Revolving_CREDIT_Balance', 'Inquiries_in_the_Last_6_Months',\n",
       "       'Employment_Length'],\n",
       "      dtype='object')"
      ]
     },
     "execution_count": 543,
     "metadata": {},
     "output_type": "execute_result"
    }
   ],
   "source": [
    "num_data.columns"
   ]
  },
  {
   "cell_type": "code",
   "execution_count": 544,
   "id": "464ec77a",
   "metadata": {},
   "outputs": [
    {
     "data": {
      "image/png": "[encoded data removed]",
      "text/plain": [
       "<Figure size 640x480 with 1 Axes>"
      ]
     },
     "metadata": {},
     "output_type": "display_data"
    },
    {
     "data": {
      "image/png": "[encoded data removed]",
      "text/plain": [
       "<Figure size 640x480 with 1 Axes>"
      ]
     },
     "metadata": {},
     "output_type": "display_data"
    },
    {
     "data": {
      "image/png": "[encoded data removed]",
      "text/plain": [
       "<Figure size 640x480 with 1 Axes>"
      ]
     },
     "metadata": {},
     "output_type": "display_data"
    },
    {
     "data": {
      "image/png": "[encoded data removed]",
      "text/plain": [
       "<Figure size 640x480 with 1 Axes>"
      ]
     },
     "metadata": {},
     "output_type": "display_data"
    },
    {
     "data": {
      "image/png": "[encoded data removed]",
      "text/plain": [
       "<Figure size 640x480 with 1 Axes>"
      ]
     },
     "metadata": {},
     "output_type": "display_data"
    },
    {
     "data": {
      "image/png": "[encoded data removed]",
      "text/plain": [
       "<Figure size 640x480 with 1 Axes>"
      ]
     },
     "metadata": {},
     "output_type": "display_data"
    },
    {
     "data": {
      "image/png": "[encoded data removed]",
      "text/plain": [
       "<Figure size 640x480 with 1 Axes>"
      ]
     },
     "metadata": {},
     "output_type": "display_data"
    },
    {
     "data": {
      "image/png": "[encoded data removed]",
      "text/plain": [
       "<Figure size 640x480 with 1 Axes>"
      ]
     },
     "metadata": {},
     "output_type": "display_data"
    },
    {
     "data": {
      "image/png": "[encoded data removed]",
      "text/plain": [
       "<Figure size 640x480 with 1 Axes>"
      ]
     },
     "metadata": {},
     "output_type": "display_data"
    },
    {
     "data": {
      "image/png": "[encoded data removed]",
      "text/plain": [
       "<Figure size 640x480 with 1 Axes>"
      ]
     },
     "metadata": {},
     "output_type": "display_data"
    },
    {
     "data": {
      "image/png": "[encoded data removed]",
      "text/plain": [
       "<Figure size 640x480 with 1 Axes>"
      ]
     },
     "metadata": {},
     "output_type": "display_data"
    },
    {
     "data": {
      "image/png": "[encoded data removed]",
      "text/plain": [
       "<Figure size 640x480 with 1 Axes>"
      ]
     },
     "metadata": {},
     "output_type": "display_data"
    }
   ],
   "source": [
    "for col in num_data:\n",
    "    sns.boxplot(num_data[col])\n",
    "    plt.show()"
   ]
  },
  {
   "cell_type": "code",
   "execution_count": 545,
   "id": "cc2fb6c7",
   "metadata": {},
   "outputs": [
    {
     "data": {
      "text/plain": [
       "Inquiries_in_the_Last_6_Months\n",
       "0.0    1252\n",
       "1.0     657\n",
       "2.0     335\n",
       "3.0     169\n",
       "4.0      50\n",
       "5.0      14\n",
       "6.0       8\n",
       "7.0       7\n",
       "9.0       5\n",
       "8.0       2\n",
       "Name: count, dtype: int64"
      ]
     },
     "execution_count": 545,
     "metadata": {},
     "output_type": "execute_result"
    }
   ],
   "source": [
    "num_data.Inquiries_in_the_Last_6_Months.value_counts()"
   ]
  },
  {
   "cell_type": "code",
   "execution_count": 546,
   "id": "b734f015",
   "metadata": {},
   "outputs": [],
   "source": [
    "l = ['Amount_Requested','Amount_Funded_By_Investors','Interest_rate','FICO_Range','Open_CREDIT_Lines','Inquiries_in_the_Last_6_Months']"
   ]
  },
  {
   "cell_type": "code",
   "execution_count": 547,
   "id": "607956a6",
   "metadata": {},
   "outputs": [
    {
     "data": {
      "text/html": [
       "<div>\n",
       "<style scoped>\n",
       "    .dataframe tbody tr th:only-of-type {\n",
       "        vertical-align: middle;\n",
       "    }\n",
       "\n",
       "    .dataframe tbody tr th {\n",
       "        vertical-align: top;\n",
       "    }\n",
       "\n",
       "    .dataframe thead th {\n",
       "        text-align: right;\n",
       "    }\n",
       "</style>\n",
       "<table border=\"1\" class=\"dataframe\">\n",
       "  <thead>\n",
       "    <tr style=\"text-align: right;\">\n",
       "      <th></th>\n",
       "      <th>Loan_id</th>\n",
       "      <th>Amount_Requested</th>\n",
       "      <th>Amount_Funded_By_Investors</th>\n",
       "      <th>Interest_Rate</th>\n",
       "      <th>Loan_Length</th>\n",
       "      <th>Debt_To_Income_Ratio</th>\n",
       "      <th>Monthly_Income</th>\n",
       "      <th>FICO_Range</th>\n",
       "      <th>Open_CREDIT_Lines</th>\n",
       "      <th>Revolving_CREDIT_Balance</th>\n",
       "      <th>Inquiries_in_the_Last_6_Months</th>\n",
       "      <th>Employment_Length</th>\n",
       "    </tr>\n",
       "  </thead>\n",
       "  <tbody>\n",
       "    <tr>\n",
       "      <th>0</th>\n",
       "      <td>-1248.0</td>\n",
       "      <td>-9000.0</td>\n",
       "      <td>-9000.0</td>\n",
       "      <td>1.70</td>\n",
       "      <td>36.0</td>\n",
       "      <td>-6.6375</td>\n",
       "      <td>-1450.0</td>\n",
       "      <td>612.5</td>\n",
       "      <td>-2.0</td>\n",
       "      <td>-14305.5</td>\n",
       "      <td>-1.5</td>\n",
       "      <td>-10.0</td>\n",
       "    </tr>\n",
       "    <tr>\n",
       "      <th>1</th>\n",
       "      <td>3748.0</td>\n",
       "      <td>31000.0</td>\n",
       "      <td>31000.0</td>\n",
       "      <td>24.26</td>\n",
       "      <td>36.0</td>\n",
       "      <td>37.0625</td>\n",
       "      <td>11750.0</td>\n",
       "      <td>792.5</td>\n",
       "      <td>22.0</td>\n",
       "      <td>38742.5</td>\n",
       "      <td>2.5</td>\n",
       "      <td>22.0</td>\n",
       "    </tr>\n",
       "  </tbody>\n",
       "</table>\n",
       "</div>"
      ],
      "text/plain": [
       "   Loan_id  Amount_Requested  Amount_Funded_By_Investors  Interest_Rate  \\\n",
       "0  -1248.0           -9000.0                     -9000.0           1.70   \n",
       "1   3748.0           31000.0                     31000.0          24.26   \n",
       "\n",
       "   Loan_Length  Debt_To_Income_Ratio  Monthly_Income  FICO_Range  \\\n",
       "0         36.0               -6.6375         -1450.0       612.5   \n",
       "1         36.0               37.0625         11750.0       792.5   \n",
       "\n",
       "   Open_CREDIT_Lines  Revolving_CREDIT_Balance  \\\n",
       "0               -2.0                  -14305.5   \n",
       "1               22.0                   38742.5   \n",
       "\n",
       "   Inquiries_in_the_Last_6_Months  Employment_Length  \n",
       "0                            -1.5              -10.0  \n",
       "1                             2.5               22.0  "
      ]
     },
     "execution_count": 547,
     "metadata": {},
     "output_type": "execute_result"
    }
   ],
   "source": [
    "num_data.apply(outliertreat_IQR)"
   ]
  },
  {
   "cell_type": "markdown",
   "id": "905e61ff",
   "metadata": {},
   "source": [
    "#### Amount Requested"
   ]
  },
  {
   "cell_type": "code",
   "execution_count": 548,
   "id": "69c00a30",
   "metadata": {},
   "outputs": [],
   "source": [
    "num_data['Amount_Requested'] = num_data.Amount_Requested.clip(lower = -10500.00, upper = 33500)"
   ]
  },
  {
   "cell_type": "code",
   "execution_count": 549,
   "id": "56001fe5",
   "metadata": {},
   "outputs": [
    {
     "data": {
      "text/plain": [
       "<Axes: >"
      ]
     },
     "execution_count": 549,
     "metadata": {},
     "output_type": "execute_result"
    },
    {
     "data": {
      "image/png": "[encoded data removed]",
      "text/plain": [
       "<Figure size 640x480 with 1 Axes>"
      ]
     },
     "metadata": {},
     "output_type": "display_data"
    }
   ],
   "source": [
    "sns.boxplot(num_data.Amount_Requested)"
   ]
  },
  {
   "cell_type": "markdown",
   "id": "50b178ea",
   "metadata": {},
   "source": [
    "#### Amount_Funded_By_Investors"
   ]
  },
  {
   "cell_type": "code",
   "execution_count": 550,
   "id": "f58066ac",
   "metadata": {},
   "outputs": [
    {
     "data": {
      "text/plain": [
       "<Axes: >"
      ]
     },
     "execution_count": 550,
     "metadata": {},
     "output_type": "execute_result"
    },
    {
     "data": {
      "image/png": "[encoded data removed]",
      "text/plain": [
       "<Figure size 640x480 with 1 Axes>"
      ]
     },
     "metadata": {},
     "output_type": "display_data"
    }
   ],
   "source": [
    "num_data['Amount_Funded_By_Investors'] = num_data.Amount_Funded_By_Investors.clip(lower = -9000, upper = 31000)\n",
    "sns.boxplot(num_data.Amount_Requested)"
   ]
  },
  {
   "cell_type": "markdown",
   "id": "6c591bea",
   "metadata": {},
   "source": [
    "#### Interest Rate"
   ]
  },
  {
   "cell_type": "code",
   "execution_count": 551,
   "id": "99ed1cb8",
   "metadata": {},
   "outputs": [
    {
     "data": {
      "text/plain": [
       "<Axes: >"
      ]
     },
     "execution_count": 551,
     "metadata": {},
     "output_type": "execute_result"
    },
    {
     "data": {
      "image/png": "[encoded data removed]",
      "text/plain": [
       "<Figure size 640x480 with 1 Axes>"
      ]
     },
     "metadata": {},
     "output_type": "display_data"
    }
   ],
   "source": [
    "num_data['Interest Rate'] = num_data.Interest_Rate.clip(lower = 1.70, upper = 24.26)\n",
    "sns.boxplot(num_data.Interest_Rate)"
   ]
  },
  {
   "cell_type": "markdown",
   "id": "595e58f5",
   "metadata": {},
   "source": [
    "#### FICO_Range"
   ]
  },
  {
   "cell_type": "code",
   "execution_count": 552,
   "id": "f98550fa",
   "metadata": {},
   "outputs": [
    {
     "data": {
      "text/plain": [
       "<Axes: >"
      ]
     },
     "execution_count": 552,
     "metadata": {},
     "output_type": "execute_result"
    },
    {
     "data": {
      "image/png": "[encoded data removed]",
      "text/plain": [
       "<Figure size 640x480 with 1 Axes>"
      ]
     },
     "metadata": {},
     "output_type": "display_data"
    }
   ],
   "source": [
    "num_data['FICO_Range'] = num_data.FICO_Range.clip(lower = 612.5, upper = 792.5)\n",
    "sns.boxplot(num_data.FICO_Range)"
   ]
  },
  {
   "cell_type": "markdown",
   "id": "8ecd0069",
   "metadata": {},
   "source": [
    "#### Open_CREDIT_Lines"
   ]
  },
  {
   "cell_type": "code",
   "execution_count": 553,
   "id": "21867871",
   "metadata": {},
   "outputs": [
    {
     "data": {
      "text/plain": [
       "<Axes: >"
      ]
     },
     "execution_count": 553,
     "metadata": {},
     "output_type": "execute_result"
    },
    {
     "data": {
      "image/png": "[encoded data removed]",
      "text/plain": [
       "<Figure size 640x480 with 1 Axes>"
      ]
     },
     "metadata": {},
     "output_type": "display_data"
    }
   ],
   "source": [
    "num_data['Open_CREDIT_Lines'] = num_data.Open_CREDIT_Lines.clip(lower = -2.0, upper = 22.0)\n",
    "sns.boxplot(num_data.Open_CREDIT_Lines)"
   ]
  },
  {
   "cell_type": "markdown",
   "id": "baa8eb8b",
   "metadata": {},
   "source": [
    "#### Inquiries_in_the_Last_6_Months"
   ]
  },
  {
   "cell_type": "code",
   "execution_count": 554,
   "id": "68b65b9b",
   "metadata": {},
   "outputs": [
    {
     "data": {
      "text/plain": [
       "<Axes: >"
      ]
     },
     "execution_count": 554,
     "metadata": {},
     "output_type": "execute_result"
    },
    {
     "data": {
      "image/png": "[encoded data removed]",
      "text/plain": [
       "<Figure size 640x480 with 1 Axes>"
      ]
     },
     "metadata": {},
     "output_type": "display_data"
    }
   ],
   "source": [
    "num_data['Inquiries_in_the_Last_6_Months'] = num_data.Inquiries_in_the_Last_6_Months.clip(lower = -1.5, upper = 2.5)\n",
    "sns.boxplot(num_data.Inquiries_in_the_Last_6_Months)"
   ]
  },
  {
   "cell_type": "code",
   "execution_count": 555,
   "id": "f6e93d41",
   "metadata": {},
   "outputs": [
    {
     "data": {
      "text/html": [
       "<div>\n",
       "<style scoped>\n",
       "    .dataframe tbody tr th:only-of-type {\n",
       "        vertical-align: middle;\n",
       "    }\n",
       "\n",
       "    .dataframe tbody tr th {\n",
       "        vertical-align: top;\n",
       "    }\n",
       "\n",
       "    .dataframe thead th {\n",
       "        text-align: right;\n",
       "    }\n",
       "</style>\n",
       "<table border=\"1\" class=\"dataframe\">\n",
       "  <thead>\n",
       "    <tr style=\"text-align: right;\">\n",
       "      <th></th>\n",
       "      <th>Loan_id</th>\n",
       "      <th>Amount_Requested</th>\n",
       "      <th>Amount_Funded_By_Investors</th>\n",
       "      <th>Interest_Rate</th>\n",
       "      <th>Loan_Length</th>\n",
       "      <th>Debt_To_Income_Ratio</th>\n",
       "      <th>Monthly_Income</th>\n",
       "      <th>FICO_Range</th>\n",
       "      <th>Open_CREDIT_Lines</th>\n",
       "      <th>Revolving_CREDIT_Balance</th>\n",
       "      <th>Inquiries_in_the_Last_6_Months</th>\n",
       "      <th>Employment_Length</th>\n",
       "      <th>Interest Rate</th>\n",
       "    </tr>\n",
       "  </thead>\n",
       "  <tbody>\n",
       "    <tr>\n",
       "      <th>0</th>\n",
       "      <td>1</td>\n",
       "      <td>20000.0</td>\n",
       "      <td>20000.0</td>\n",
       "      <td>8.90</td>\n",
       "      <td>36.0</td>\n",
       "      <td>14.90</td>\n",
       "      <td>6541.67</td>\n",
       "      <td>735.0</td>\n",
       "      <td>14.0</td>\n",
       "      <td>14272.0</td>\n",
       "      <td>2.0</td>\n",
       "      <td>1.0</td>\n",
       "      <td>8.90</td>\n",
       "    </tr>\n",
       "    <tr>\n",
       "      <th>1</th>\n",
       "      <td>2</td>\n",
       "      <td>19200.0</td>\n",
       "      <td>19200.0</td>\n",
       "      <td>12.12</td>\n",
       "      <td>36.0</td>\n",
       "      <td>28.36</td>\n",
       "      <td>4583.33</td>\n",
       "      <td>715.0</td>\n",
       "      <td>12.0</td>\n",
       "      <td>11140.0</td>\n",
       "      <td>1.0</td>\n",
       "      <td>2.0</td>\n",
       "      <td>12.12</td>\n",
       "    </tr>\n",
       "    <tr>\n",
       "      <th>2</th>\n",
       "      <td>3</td>\n",
       "      <td>33500.0</td>\n",
       "      <td>31000.0</td>\n",
       "      <td>21.98</td>\n",
       "      <td>60.0</td>\n",
       "      <td>23.81</td>\n",
       "      <td>11500.00</td>\n",
       "      <td>690.0</td>\n",
       "      <td>14.0</td>\n",
       "      <td>21977.0</td>\n",
       "      <td>1.0</td>\n",
       "      <td>2.0</td>\n",
       "      <td>21.98</td>\n",
       "    </tr>\n",
       "    <tr>\n",
       "      <th>3</th>\n",
       "      <td>4</td>\n",
       "      <td>9975.0</td>\n",
       "      <td>9975.0</td>\n",
       "      <td>9.99</td>\n",
       "      <td>36.0</td>\n",
       "      <td>14.30</td>\n",
       "      <td>3833.33</td>\n",
       "      <td>695.0</td>\n",
       "      <td>10.0</td>\n",
       "      <td>9346.0</td>\n",
       "      <td>0.0</td>\n",
       "      <td>5.0</td>\n",
       "      <td>9.99</td>\n",
       "    </tr>\n",
       "    <tr>\n",
       "      <th>4</th>\n",
       "      <td>5</td>\n",
       "      <td>12000.0</td>\n",
       "      <td>12000.0</td>\n",
       "      <td>11.71</td>\n",
       "      <td>36.0</td>\n",
       "      <td>18.78</td>\n",
       "      <td>3195.00</td>\n",
       "      <td>695.0</td>\n",
       "      <td>11.0</td>\n",
       "      <td>14469.0</td>\n",
       "      <td>0.0</td>\n",
       "      <td>9.0</td>\n",
       "      <td>11.71</td>\n",
       "    </tr>\n",
       "  </tbody>\n",
       "</table>\n",
       "</div>"
      ],
      "text/plain": [
       "   Loan_id  Amount_Requested  Amount_Funded_By_Investors  Interest_Rate  \\\n",
       "0        1           20000.0                     20000.0           8.90   \n",
       "1        2           19200.0                     19200.0          12.12   \n",
       "2        3           33500.0                     31000.0          21.98   \n",
       "3        4            9975.0                      9975.0           9.99   \n",
       "4        5           12000.0                     12000.0          11.71   \n",
       "\n",
       "   Loan_Length  Debt_To_Income_Ratio  Monthly_Income  FICO_Range  \\\n",
       "0         36.0                 14.90         6541.67       735.0   \n",
       "1         36.0                 28.36         4583.33       715.0   \n",
       "2         60.0                 23.81        11500.00       690.0   \n",
       "3         36.0                 14.30         3833.33       695.0   \n",
       "4         36.0                 18.78         3195.00       695.0   \n",
       "\n",
       "   Open_CREDIT_Lines  Revolving_CREDIT_Balance  \\\n",
       "0               14.0                   14272.0   \n",
       "1               12.0                   11140.0   \n",
       "2               14.0                   21977.0   \n",
       "3               10.0                    9346.0   \n",
       "4               11.0                   14469.0   \n",
       "\n",
       "   Inquiries_in_the_Last_6_Months  Employment_Length  Interest Rate  \n",
       "0                             2.0                1.0           8.90  \n",
       "1                             1.0                2.0          12.12  \n",
       "2                             1.0                2.0          21.98  \n",
       "3                             0.0                5.0           9.99  \n",
       "4                             0.0                9.0          11.71  "
      ]
     },
     "execution_count": 555,
     "metadata": {},
     "output_type": "execute_result"
    }
   ],
   "source": [
    "num_data.head()"
   ]
  },
  {
   "cell_type": "markdown",
   "id": "4bf94148",
   "metadata": {},
   "source": [
    "## Merging the categorical and the numerical data to get the dataset"
   ]
  },
  {
   "cell_type": "code",
   "execution_count": 556,
   "id": "c2a208eb",
   "metadata": {},
   "outputs": [],
   "source": [
    "M_data1 = pd.merge(num_data,cat_data,how = 'inner',left_on = 'Loan_id',right_on = 'Loan_id')"
   ]
  },
  {
   "cell_type": "code",
   "execution_count": 557,
   "id": "771a14e4",
   "metadata": {},
   "outputs": [
    {
     "data": {
      "text/plain": [
       "(2499, 16)"
      ]
     },
     "execution_count": 557,
     "metadata": {},
     "output_type": "execute_result"
    }
   ],
   "source": [
    "M_data1.shape"
   ]
  },
  {
   "cell_type": "code",
   "execution_count": 558,
   "id": "b150f6b5",
   "metadata": {},
   "outputs": [
    {
     "data": {
      "text/plain": [
       "Index(['Loan_id', 'Amount_Requested', 'Amount_Funded_By_Investors',\n",
       "       'Interest_Rate', 'Loan_Length', 'Debt_To_Income_Ratio',\n",
       "       'Monthly_Income', 'FICO_Range', 'Open_CREDIT_Lines',\n",
       "       'Revolving_CREDIT_Balance', 'Inquiries_in_the_Last_6_Months',\n",
       "       'Employment_Length', 'Interest Rate', 'Loan_Purpose', 'States',\n",
       "       'Home_Ownership'],\n",
       "      dtype='object')"
      ]
     },
     "execution_count": 558,
     "metadata": {},
     "output_type": "execute_result"
    }
   ],
   "source": [
    "M_data1.columns"
   ]
  },
  {
   "cell_type": "code",
   "execution_count": 559,
   "id": "25f47051",
   "metadata": {},
   "outputs": [
    {
     "name": "stdout",
     "output_type": "stream",
     "text": [
      "<class 'pandas.core.frame.DataFrame'>\n",
      "RangeIndex: 2499 entries, 0 to 2498\n",
      "Data columns (total 16 columns):\n",
      " #   Column                          Non-Null Count  Dtype  \n",
      "---  ------                          --------------  -----  \n",
      " 0   Loan_id                         2499 non-null   int64  \n",
      " 1   Amount_Requested                2499 non-null   float64\n",
      " 2   Amount_Funded_By_Investors      2499 non-null   float64\n",
      " 3   Interest_Rate                   2499 non-null   float64\n",
      " 4   Loan_Length                     2499 non-null   float64\n",
      " 5   Debt_To_Income_Ratio            2499 non-null   float64\n",
      " 6   Monthly_Income                  2499 non-null   float64\n",
      " 7   FICO_Range                      2499 non-null   float64\n",
      " 8   Open_CREDIT_Lines               2499 non-null   float64\n",
      " 9   Revolving_CREDIT_Balance        2499 non-null   float64\n",
      " 10  Inquiries_in_the_Last_6_Months  2499 non-null   float64\n",
      " 11  Employment_Length               2499 non-null   float64\n",
      " 12  Interest Rate                   2499 non-null   float64\n",
      " 13  Loan_Purpose                    2499 non-null   object \n",
      " 14  States                          2499 non-null   object \n",
      " 15  Home_Ownership                  2499 non-null   object \n",
      "dtypes: float64(12), int64(1), object(3)\n",
      "memory usage: 312.5+ KB\n"
     ]
    }
   ],
   "source": [
    "M_data1.info()"
   ]
  },
  {
   "cell_type": "markdown",
   "id": "c3c4a30f",
   "metadata": {},
   "source": [
    "## Standardisation of the numerical data"
   ]
  },
  {
   "cell_type": "code",
   "execution_count": 560,
   "id": "16aaf6de",
   "metadata": {},
   "outputs": [],
   "source": [
    "from scipy import stats"
   ]
  },
  {
   "cell_type": "code",
   "execution_count": 561,
   "id": "721bdbe8",
   "metadata": {},
   "outputs": [],
   "source": [
    "num_data_z = num_data.apply(stats.zscore) "
   ]
  },
  {
   "cell_type": "code",
   "execution_count": 562,
   "id": "0b994ec0",
   "metadata": {},
   "outputs": [
    {
     "data": {
      "text/html": [
       "<div>\n",
       "<style scoped>\n",
       "    .dataframe tbody tr th:only-of-type {\n",
       "        vertical-align: middle;\n",
       "    }\n",
       "\n",
       "    .dataframe tbody tr th {\n",
       "        vertical-align: top;\n",
       "    }\n",
       "\n",
       "    .dataframe thead th {\n",
       "        text-align: right;\n",
       "    }\n",
       "</style>\n",
       "<table border=\"1\" class=\"dataframe\">\n",
       "  <thead>\n",
       "    <tr style=\"text-align: right;\">\n",
       "      <th></th>\n",
       "      <th>Loan_id</th>\n",
       "      <th>Amount_Requested</th>\n",
       "      <th>Amount_Funded_By_Investors</th>\n",
       "      <th>Interest_Rate</th>\n",
       "      <th>Loan_Length</th>\n",
       "      <th>Debt_To_Income_Ratio</th>\n",
       "      <th>Monthly_Income</th>\n",
       "      <th>FICO_Range</th>\n",
       "      <th>Open_CREDIT_Lines</th>\n",
       "      <th>Revolving_CREDIT_Balance</th>\n",
       "      <th>Inquiries_in_the_Last_6_Months</th>\n",
       "      <th>Employment_Length</th>\n",
       "      <th>Interest Rate</th>\n",
       "    </tr>\n",
       "  </thead>\n",
       "  <tbody>\n",
       "    <tr>\n",
       "      <th>0</th>\n",
       "      <td>1</td>\n",
       "      <td>20000.0</td>\n",
       "      <td>20000.0</td>\n",
       "      <td>8.90</td>\n",
       "      <td>36.0</td>\n",
       "      <td>14.90</td>\n",
       "      <td>6541.67</td>\n",
       "      <td>735.0</td>\n",
       "      <td>14.0</td>\n",
       "      <td>14272.0</td>\n",
       "      <td>2.0</td>\n",
       "      <td>1.0</td>\n",
       "      <td>8.90</td>\n",
       "    </tr>\n",
       "    <tr>\n",
       "      <th>1</th>\n",
       "      <td>2</td>\n",
       "      <td>19200.0</td>\n",
       "      <td>19200.0</td>\n",
       "      <td>12.12</td>\n",
       "      <td>36.0</td>\n",
       "      <td>28.36</td>\n",
       "      <td>4583.33</td>\n",
       "      <td>715.0</td>\n",
       "      <td>12.0</td>\n",
       "      <td>11140.0</td>\n",
       "      <td>1.0</td>\n",
       "      <td>2.0</td>\n",
       "      <td>12.12</td>\n",
       "    </tr>\n",
       "    <tr>\n",
       "      <th>2</th>\n",
       "      <td>3</td>\n",
       "      <td>33500.0</td>\n",
       "      <td>31000.0</td>\n",
       "      <td>21.98</td>\n",
       "      <td>60.0</td>\n",
       "      <td>23.81</td>\n",
       "      <td>11500.00</td>\n",
       "      <td>690.0</td>\n",
       "      <td>14.0</td>\n",
       "      <td>21977.0</td>\n",
       "      <td>1.0</td>\n",
       "      <td>2.0</td>\n",
       "      <td>21.98</td>\n",
       "    </tr>\n",
       "    <tr>\n",
       "      <th>3</th>\n",
       "      <td>4</td>\n",
       "      <td>9975.0</td>\n",
       "      <td>9975.0</td>\n",
       "      <td>9.99</td>\n",
       "      <td>36.0</td>\n",
       "      <td>14.30</td>\n",
       "      <td>3833.33</td>\n",
       "      <td>695.0</td>\n",
       "      <td>10.0</td>\n",
       "      <td>9346.0</td>\n",
       "      <td>0.0</td>\n",
       "      <td>5.0</td>\n",
       "      <td>9.99</td>\n",
       "    </tr>\n",
       "    <tr>\n",
       "      <th>4</th>\n",
       "      <td>5</td>\n",
       "      <td>12000.0</td>\n",
       "      <td>12000.0</td>\n",
       "      <td>11.71</td>\n",
       "      <td>36.0</td>\n",
       "      <td>18.78</td>\n",
       "      <td>3195.00</td>\n",
       "      <td>695.0</td>\n",
       "      <td>11.0</td>\n",
       "      <td>14469.0</td>\n",
       "      <td>0.0</td>\n",
       "      <td>9.0</td>\n",
       "      <td>11.71</td>\n",
       "    </tr>\n",
       "  </tbody>\n",
       "</table>\n",
       "</div>"
      ],
      "text/plain": [
       "   Loan_id  Amount_Requested  Amount_Funded_By_Investors  Interest_Rate  \\\n",
       "0        1           20000.0                     20000.0           8.90   \n",
       "1        2           19200.0                     19200.0          12.12   \n",
       "2        3           33500.0                     31000.0          21.98   \n",
       "3        4            9975.0                      9975.0           9.99   \n",
       "4        5           12000.0                     12000.0          11.71   \n",
       "\n",
       "   Loan_Length  Debt_To_Income_Ratio  Monthly_Income  FICO_Range  \\\n",
       "0         36.0                 14.90         6541.67       735.0   \n",
       "1         36.0                 28.36         4583.33       715.0   \n",
       "2         60.0                 23.81        11500.00       690.0   \n",
       "3         36.0                 14.30         3833.33       695.0   \n",
       "4         36.0                 18.78         3195.00       695.0   \n",
       "\n",
       "   Open_CREDIT_Lines  Revolving_CREDIT_Balance  \\\n",
       "0               14.0                   14272.0   \n",
       "1               12.0                   11140.0   \n",
       "2               14.0                   21977.0   \n",
       "3               10.0                    9346.0   \n",
       "4               11.0                   14469.0   \n",
       "\n",
       "   Inquiries_in_the_Last_6_Months  Employment_Length  Interest Rate  \n",
       "0                             2.0                1.0           8.90  \n",
       "1                             1.0                2.0          12.12  \n",
       "2                             1.0                2.0          21.98  \n",
       "3                             0.0                5.0           9.99  \n",
       "4                             0.0                9.0          11.71  "
      ]
     },
     "execution_count": 562,
     "metadata": {},
     "output_type": "execute_result"
    }
   ],
   "source": [
    "num_data.head()"
   ]
  },
  {
   "cell_type": "code",
   "execution_count": null,
   "id": "43183bef",
   "metadata": {},
   "outputs": [],
   "source": []
  }
 ],
 "metadata": {
  "kernelspec": {
   "display_name": "Python 3 (ipykernel)",
   "language": "python",
   "name": "python3"
  },
  "language_info": {
   "codemirror_mode": {
    "name": "ipython",
    "version": 3
   },
   "file_extension": ".py",
   "mimetype": "text/x-python",
   "name": "python",
   "nbconvert_exporter": "python",
   "pygments_lexer": "ipython3",
   "version": "3.11.5"
  }
 },
 "nbformat": 4,
 "nbformat_minor": 5
}
